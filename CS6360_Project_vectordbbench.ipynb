{
  "nbformat": 4,
  "nbformat_minor": 0,
  "metadata": {
    "colab": {
      "provenance": []
    },
    "kernelspec": {
      "name": "python3",
      "display_name": "Python 3"
    },
    "language_info": {
      "name": "python"
    }
  },
  "cells": [
    {
      "cell_type": "markdown",
      "source": [
        "# Install Python 3.12"
      ],
      "metadata": {
        "id": "GOdKd6qkXBXf"
      }
    },
    {
      "cell_type": "code",
      "source": [
        "!python3 --version"
      ],
      "metadata": {
        "id": "bFq8SA24bk05",
        "colab": {
          "base_uri": "https://localhost:8080/"
        },
        "outputId": "6b2c402e-cfe5-471c-b34e-5a925f62683c"
      },
      "execution_count": null,
      "outputs": [
        {
          "output_type": "stream",
          "name": "stdout",
          "text": [
            "Python 3.10.12\n"
          ]
        }
      ]
    },
    {
      "cell_type": "code",
      "source": [
        "!sudo update-alternatives --config python3\n",
        "\n",
        "!sudo apt-get update -y\n",
        "!sudo apt-get install python3.11 python3.11-dev python3.11-distutils libpython3.11-dev"
      ],
      "metadata": {
        "colab": {
          "base_uri": "https://localhost:8080/"
        },
        "id": "KJvH3LjOKVZ4",
        "outputId": "17fe9c19-6b9b-4030-d3a0-5649fca5dba5"
      },
      "execution_count": null,
      "outputs": [
        {
          "output_type": "stream",
          "name": "stdout",
          "text": [
            "update-alternatives: error: no alternatives for python3\n",
            "Get:1 https://cloud.r-project.org/bin/linux/ubuntu jammy-cran40/ InRelease [3,626 B]\n",
            "Hit:2 https://developer.download.nvidia.com/compute/cuda/repos/ubuntu2204/x86_64  InRelease\n",
            "Get:3 http://security.ubuntu.com/ubuntu jammy-security InRelease [110 kB]\n",
            "Hit:4 http://archive.ubuntu.com/ubuntu jammy InRelease\n",
            "Get:5 http://archive.ubuntu.com/ubuntu jammy-updates InRelease [119 kB]\n",
            "Get:6 http://archive.ubuntu.com/ubuntu jammy-backports InRelease [109 kB]\n",
            "Get:7 https://cloud.r-project.org/bin/linux/ubuntu jammy-cran40/ Packages [52.9 kB]\n",
            "Get:8 http://security.ubuntu.com/ubuntu jammy-security/main amd64 Packages [1,755 kB]\n",
            "Get:9 http://security.ubuntu.com/ubuntu jammy-security/universe amd64 Packages [1,077 kB]\n",
            "Get:10 http://archive.ubuntu.com/ubuntu jammy-updates/universe amd64 Packages [1,370 kB]\n",
            "Get:11 http://archive.ubuntu.com/ubuntu jammy-updates/main amd64 Packages [2,035 kB]\n",
            "Hit:12 https://ppa.launchpadcontent.net/c2d4u.team/c2d4u4.0+/ubuntu jammy InRelease\n",
            "Get:13 https://ppa.launchpadcontent.net/deadsnakes/ppa/ubuntu jammy InRelease [18.1 kB]\n",
            "Get:14 https://ppa.launchpadcontent.net/graphics-drivers/ppa/ubuntu jammy InRelease [24.3 kB]\n",
            "Hit:15 https://ppa.launchpadcontent.net/ubuntugis/ppa/ubuntu jammy InRelease\n",
            "Get:16 https://ppa.launchpadcontent.net/deadsnakes/ppa/ubuntu jammy/main amd64 Packages [28.3 kB]\n",
            "Get:17 https://ppa.launchpadcontent.net/graphics-drivers/ppa/ubuntu jammy/main amd64 Packages [44.2 kB]\n",
            "Fetched 6,747 kB in 7s (1,036 kB/s)\n",
            "Reading package lists... Done\n",
            "Reading package lists... Done\n",
            "Building dependency tree... Done\n",
            "Reading state information... Done\n",
            "Note, selecting 'python3-distutils' instead of 'python3.11-distutils'\n",
            "python3-distutils is already the newest version (3.10.8-1~22.04).\n",
            "The following additional packages will be installed:\n",
            "  libpython3.11 libpython3.11-minimal libpython3.11-stdlib mailcap\n",
            "  mime-support python3.11-minimal\n",
            "Suggested packages:\n",
            "  python3.11-venv binfmt-support\n",
            "The following NEW packages will be installed:\n",
            "  libpython3.11 libpython3.11-dev libpython3.11-minimal libpython3.11-stdlib\n",
            "  mailcap mime-support python3.11 python3.11-dev python3.11-minimal\n",
            "0 upgraded, 9 newly installed, 0 to remove and 50 not upgraded.\n",
            "Need to get 13.9 MB of archives.\n",
            "After this operation, 55.6 MB of additional disk space will be used.\n",
            "Get:1 http://archive.ubuntu.com/ubuntu jammy/main amd64 mailcap all 3.70+nmu1ubuntu1 [23.8 kB]\n",
            "Get:2 http://archive.ubuntu.com/ubuntu jammy/main amd64 mime-support all 3.66 [3,696 B]\n",
            "Get:3 https://ppa.launchpadcontent.net/deadsnakes/ppa/ubuntu jammy/main amd64 libpython3.11-minimal amd64 3.11.9-1+jammy1 [884 kB]\n",
            "Get:4 https://ppa.launchpadcontent.net/deadsnakes/ppa/ubuntu jammy/main amd64 python3.11-minimal amd64 3.11.9-1+jammy1 [2,355 kB]\n",
            "Get:5 https://ppa.launchpadcontent.net/deadsnakes/ppa/ubuntu jammy/main amd64 libpython3.11-stdlib amd64 3.11.9-1+jammy1 [1,925 kB]\n",
            "Get:6 https://ppa.launchpadcontent.net/deadsnakes/ppa/ubuntu jammy/main amd64 libpython3.11 amd64 3.11.9-1+jammy1 [2,217 kB]\n",
            "Get:7 https://ppa.launchpadcontent.net/deadsnakes/ppa/ubuntu jammy/main amd64 libpython3.11-dev amd64 3.11.9-1+jammy1 [5,313 kB]\n",
            "Get:8 https://ppa.launchpadcontent.net/deadsnakes/ppa/ubuntu jammy/main amd64 python3.11 amd64 3.11.9-1+jammy1 [640 kB]\n",
            "Get:9 https://ppa.launchpadcontent.net/deadsnakes/ppa/ubuntu jammy/main amd64 python3.11-dev amd64 3.11.9-1+jammy1 [500 kB]\n",
            "Fetched 13.9 MB in 3s (5,391 kB/s)\n",
            "debconf: unable to initialize frontend: Dialog\n",
            "debconf: (No usable dialog-like program is installed, so the dialog based frontend cannot be used. at /usr/share/perl5/Debconf/FrontEnd/Dialog.pm line 78, <> line 9.)\n",
            "debconf: falling back to frontend: Readline\n",
            "debconf: unable to initialize frontend: Readline\n",
            "debconf: (This frontend requires a controlling tty.)\n",
            "debconf: falling back to frontend: Teletype\n",
            "dpkg-preconfigure: unable to re-open stdin: \n",
            "Selecting previously unselected package libpython3.11-minimal:amd64.\n",
            "(Reading database ... 121752 files and directories currently installed.)\n",
            "Preparing to unpack .../0-libpython3.11-minimal_3.11.9-1+jammy1_amd64.deb ...\n",
            "Unpacking libpython3.11-minimal:amd64 (3.11.9-1+jammy1) ...\n",
            "Selecting previously unselected package python3.11-minimal.\n",
            "Preparing to unpack .../1-python3.11-minimal_3.11.9-1+jammy1_amd64.deb ...\n",
            "Unpacking python3.11-minimal (3.11.9-1+jammy1) ...\n",
            "Selecting previously unselected package mailcap.\n",
            "Preparing to unpack .../2-mailcap_3.70+nmu1ubuntu1_all.deb ...\n",
            "Unpacking mailcap (3.70+nmu1ubuntu1) ...\n",
            "Selecting previously unselected package mime-support.\n",
            "Preparing to unpack .../3-mime-support_3.66_all.deb ...\n",
            "Unpacking mime-support (3.66) ...\n",
            "Selecting previously unselected package libpython3.11-stdlib:amd64.\n",
            "Preparing to unpack .../4-libpython3.11-stdlib_3.11.9-1+jammy1_amd64.deb ...\n",
            "Unpacking libpython3.11-stdlib:amd64 (3.11.9-1+jammy1) ...\n",
            "Selecting previously unselected package libpython3.11:amd64.\n",
            "Preparing to unpack .../5-libpython3.11_3.11.9-1+jammy1_amd64.deb ...\n",
            "Unpacking libpython3.11:amd64 (3.11.9-1+jammy1) ...\n",
            "Selecting previously unselected package libpython3.11-dev:amd64.\n",
            "Preparing to unpack .../6-libpython3.11-dev_3.11.9-1+jammy1_amd64.deb ...\n",
            "Unpacking libpython3.11-dev:amd64 (3.11.9-1+jammy1) ...\n",
            "Selecting previously unselected package python3.11.\n",
            "Preparing to unpack .../7-python3.11_3.11.9-1+jammy1_amd64.deb ...\n",
            "Unpacking python3.11 (3.11.9-1+jammy1) ...\n",
            "Selecting previously unselected package python3.11-dev.\n",
            "Preparing to unpack .../8-python3.11-dev_3.11.9-1+jammy1_amd64.deb ...\n",
            "Unpacking python3.11-dev (3.11.9-1+jammy1) ...\n",
            "Setting up libpython3.11-minimal:amd64 (3.11.9-1+jammy1) ...\n",
            "Setting up mailcap (3.70+nmu1ubuntu1) ...\n",
            "Setting up python3.11-minimal (3.11.9-1+jammy1) ...\n",
            "Setting up mime-support (3.66) ...\n",
            "Setting up libpython3.11-stdlib:amd64 (3.11.9-1+jammy1) ...\n",
            "Setting up python3.11 (3.11.9-1+jammy1) ...\n",
            "Setting up libpython3.11:amd64 (3.11.9-1+jammy1) ...\n",
            "Setting up libpython3.11-dev:amd64 (3.11.9-1+jammy1) ...\n",
            "Setting up python3.11-dev (3.11.9-1+jammy1) ...\n",
            "Processing triggers for man-db (2.10.2-1) ...\n"
          ]
        }
      ]
    },
    {
      "cell_type": "code",
      "source": [
        "!apt-get install python3.12"
      ],
      "metadata": {
        "id": "RVpTF7oEAzti",
        "colab": {
          "base_uri": "https://localhost:8080/"
        },
        "outputId": "1ea68946-93b3-4db9-9bc1-5bbbf3b218b4"
      },
      "execution_count": null,
      "outputs": [
        {
          "output_type": "stream",
          "name": "stdout",
          "text": [
            "Reading package lists... Done\n",
            "Building dependency tree... Done\n",
            "Reading state information... Done\n",
            "The following additional packages will be installed:\n",
            "  libpython3.12-minimal libpython3.12-stdlib python3.12-minimal\n",
            "Suggested packages:\n",
            "  python3.12-venv binfmt-support\n",
            "The following NEW packages will be installed:\n",
            "  libpython3.12-minimal libpython3.12-stdlib python3.12 python3.12-minimal\n",
            "0 upgraded, 4 newly installed, 0 to remove and 50 not upgraded.\n",
            "Need to get 6,105 kB of archives.\n",
            "After this operation, 23.2 MB of additional disk space will be used.\n",
            "Get:1 https://ppa.launchpadcontent.net/deadsnakes/ppa/ubuntu jammy/main amd64 libpython3.12-minimal amd64 3.12.3-1+jammy1 [876 kB]\n",
            "Get:2 https://ppa.launchpadcontent.net/deadsnakes/ppa/ubuntu jammy/main amd64 python3.12-minimal amd64 3.12.3-1+jammy1 [2,491 kB]\n",
            "Get:3 https://ppa.launchpadcontent.net/deadsnakes/ppa/ubuntu jammy/main amd64 libpython3.12-stdlib amd64 3.12.3-1+jammy1 [2,041 kB]\n",
            "Get:4 https://ppa.launchpadcontent.net/deadsnakes/ppa/ubuntu jammy/main amd64 python3.12 amd64 3.12.3-1+jammy1 [698 kB]\n",
            "Fetched 6,105 kB in 3s (2,275 kB/s)\n",
            "Selecting previously unselected package libpython3.12-minimal:amd64.\n",
            "(Reading database ... 122686 files and directories currently installed.)\n",
            "Preparing to unpack .../libpython3.12-minimal_3.12.3-1+jammy1_amd64.deb ...\n",
            "Unpacking libpython3.12-minimal:amd64 (3.12.3-1+jammy1) ...\n",
            "Selecting previously unselected package python3.12-minimal.\n",
            "Preparing to unpack .../python3.12-minimal_3.12.3-1+jammy1_amd64.deb ...\n",
            "Unpacking python3.12-minimal (3.12.3-1+jammy1) ...\n",
            "Selecting previously unselected package libpython3.12-stdlib:amd64.\n",
            "Preparing to unpack .../libpython3.12-stdlib_3.12.3-1+jammy1_amd64.deb ...\n",
            "Unpacking libpython3.12-stdlib:amd64 (3.12.3-1+jammy1) ...\n",
            "Selecting previously unselected package python3.12.\n",
            "Preparing to unpack .../python3.12_3.12.3-1+jammy1_amd64.deb ...\n",
            "Unpacking python3.12 (3.12.3-1+jammy1) ...\n",
            "Setting up libpython3.12-minimal:amd64 (3.12.3-1+jammy1) ...\n",
            "Setting up python3.12-minimal (3.12.3-1+jammy1) ...\n",
            "Setting up libpython3.12-stdlib:amd64 (3.12.3-1+jammy1) ...\n",
            "Setting up python3.12 (3.12.3-1+jammy1) ...\n",
            "Processing triggers for mailcap (3.70+nmu1ubuntu1) ...\n",
            "Processing triggers for man-db (2.10.2-1) ...\n"
          ]
        }
      ]
    },
    {
      "cell_type": "code",
      "source": [
        "!sudo apt-get update -y\n",
        "!sudo apt-get install python3.12"
      ],
      "metadata": {
        "colab": {
          "base_uri": "https://localhost:8080/"
        },
        "id": "Gh1SOOaGY2se",
        "outputId": "825d9d70-e3e7-4ef4-d54d-05ac7194f5a0"
      },
      "execution_count": null,
      "outputs": [
        {
          "output_type": "stream",
          "name": "stdout",
          "text": [
            "\r0% [Working]\r            \rHit:1 https://cloud.r-project.org/bin/linux/ubuntu jammy-cran40/ InRelease\n",
            "\r0% [Connecting to archive.ubuntu.com] [Connecting to security.ubuntu.com (91.18\r                                                                               \rHit:2 https://developer.download.nvidia.com/compute/cuda/repos/ubuntu2204/x86_64  InRelease\n",
            "Hit:3 http://security.ubuntu.com/ubuntu jammy-security InRelease\n",
            "Hit:4 http://archive.ubuntu.com/ubuntu jammy InRelease\n",
            "Hit:5 http://archive.ubuntu.com/ubuntu jammy-updates InRelease\n",
            "Hit:6 http://archive.ubuntu.com/ubuntu jammy-backports InRelease\n",
            "Hit:7 https://ppa.launchpadcontent.net/c2d4u.team/c2d4u4.0+/ubuntu jammy InRelease\n",
            "Hit:8 https://ppa.launchpadcontent.net/deadsnakes/ppa/ubuntu jammy InRelease\n",
            "Hit:9 https://ppa.launchpadcontent.net/graphics-drivers/ppa/ubuntu jammy InRelease\n",
            "Hit:10 https://ppa.launchpadcontent.net/ubuntugis/ppa/ubuntu jammy InRelease\n",
            "Reading package lists... Done\n",
            "Reading package lists... Done\n",
            "Building dependency tree... Done\n",
            "Reading state information... Done\n",
            "python3.12 is already the newest version (3.12.3-1+jammy1).\n",
            "0 upgraded, 0 newly installed, 0 to remove and 50 not upgraded.\n"
          ]
        }
      ]
    },
    {
      "cell_type": "code",
      "source": [
        "# install python version\n",
        "!sudo update-alternatives --config python3\n",
        "\n",
        "!sudo apt-get update -y\n",
        "!sudo apt-get install python3.11 python3.11-dev python3.11-distutils libpython3.11-dev\n",
        "\n",
        "!sudo update-alternatives --install /usr/bin/python3 python3 /usr/bin/python3.10 1\n",
        "!sudo update-alternatives --install /usr/bin/python3 python3 /usr/bin/python3.11 2"
      ],
      "metadata": {
        "colab": {
          "base_uri": "https://localhost:8080/"
        },
        "id": "go5Z__I1VdB5",
        "outputId": "e7a6e831-e755-40b3-cd7d-190728bf269b"
      },
      "execution_count": null,
      "outputs": [
        {
          "output_type": "stream",
          "name": "stdout",
          "text": [
            "update-alternatives: error: no alternatives for python3\n",
            "Hit:1 https://cloud.r-project.org/bin/linux/ubuntu jammy-cran40/ InRelease\n",
            "Hit:2 https://developer.download.nvidia.com/compute/cuda/repos/ubuntu2204/x86_64  InRelease\n",
            "Hit:3 http://archive.ubuntu.com/ubuntu jammy InRelease\n",
            "Hit:4 http://archive.ubuntu.com/ubuntu jammy-updates InRelease\n",
            "Hit:5 http://archive.ubuntu.com/ubuntu jammy-backports InRelease\n",
            "Hit:6 http://security.ubuntu.com/ubuntu jammy-security InRelease\n",
            "Hit:7 https://ppa.launchpadcontent.net/c2d4u.team/c2d4u4.0+/ubuntu jammy InRelease\n",
            "Hit:8 https://ppa.launchpadcontent.net/deadsnakes/ppa/ubuntu jammy InRelease\n",
            "Hit:9 https://ppa.launchpadcontent.net/graphics-drivers/ppa/ubuntu jammy InRelease\n",
            "Hit:10 https://ppa.launchpadcontent.net/ubuntugis/ppa/ubuntu jammy InRelease\n",
            "Reading package lists... Done\n",
            "Reading package lists... Done\n",
            "Building dependency tree... Done\n",
            "Reading state information... Done\n",
            "Note, selecting 'python3-distutils' instead of 'python3.11-distutils'\n",
            "python3-distutils is already the newest version (3.10.8-1~22.04).\n",
            "libpython3.11-dev is already the newest version (3.11.9-1+jammy1).\n",
            "python3.11 is already the newest version (3.11.9-1+jammy1).\n",
            "python3.11-dev is already the newest version (3.11.9-1+jammy1).\n",
            "0 upgraded, 0 newly installed, 0 to remove and 50 not upgraded.\n",
            "update-alternatives: using /usr/bin/python3.10 to provide /usr/bin/python3 (python3) in auto mode\n",
            "update-alternatives: using /usr/bin/python3.11 to provide /usr/bin/python3 (python3) in auto mode\n"
          ]
        }
      ]
    },
    {
      "cell_type": "code",
      "source": [
        "!sudo update-alternatives --config python3\n"
      ],
      "metadata": {
        "colab": {
          "base_uri": "https://localhost:8080/"
        },
        "id": "SrVmvx22WsRG",
        "outputId": "adb8f260-1ad2-49a3-ff1e-692468d0ca5c"
      },
      "execution_count": null,
      "outputs": [
        {
          "output_type": "stream",
          "name": "stdout",
          "text": [
            "There are 2 choices for the alternative python3 (providing /usr/bin/python3).\n",
            "\n",
            "  Selection    Path                 Priority   Status\n",
            "------------------------------------------------------------\n",
            "* 0            /usr/bin/python3.11   2         auto mode\n",
            "  1            /usr/bin/python3.10   1         manual mode\n",
            "  2            /usr/bin/python3.11   2         manual mode\n",
            "\n",
            "Press <enter> to keep the current choice[*], or type selection number: \n"
          ]
        }
      ]
    },
    {
      "cell_type": "code",
      "source": [
        "!python3 --version\n"
      ],
      "metadata": {
        "colab": {
          "base_uri": "https://localhost:8080/"
        },
        "id": "B19kf_LfWt92",
        "outputId": "3cfb8f9a-a013-407a-b7d3-4e6a567519b1"
      },
      "execution_count": null,
      "outputs": [
        {
          "output_type": "stream",
          "name": "stdout",
          "text": [
            "Python 3.11.9\n"
          ]
        }
      ]
    },
    {
      "cell_type": "markdown",
      "source": [
        "# Install everything else and vectordbbench"
      ],
      "metadata": {
        "id": "L4alHbT_Ztea"
      }
    },
    {
      "cell_type": "code",
      "source": [
        "# install pip for new python\n",
        "!sudo apt-get install python3.12-distutils\n",
        "!wget https://bootstrap.pypa.io/get-pip.py\n",
        "!python get-pip.py\n",
        "\n",
        "# credit of these last two commands blongs to @Erik\n",
        "# install colab's dependencies\n",
        "!python -m pip install ipython ipython_genutils ipykernel jupyter_console prompt_toolkit httplib2 astor\n",
        "\n",
        "# link to the old google package\n",
        "!ln -s /usr/local/lib/python3.10/dist-packages/google \\\n",
        "       /usr/local/lib/python3.12/dist-packages/google"
      ],
      "metadata": {
        "colab": {
          "base_uri": "https://localhost:8080/"
        },
        "id": "6XW8fWR6W1oX",
        "outputId": "3d84a34a-9040-4803-a210-2273c7d4f86e"
      },
      "execution_count": null,
      "outputs": [
        {
          "output_type": "stream",
          "name": "stdout",
          "text": [
            "Reading package lists... Done\n",
            "Building dependency tree... Done\n",
            "Reading state information... Done\n",
            "The following additional packages will be installed:\n",
            "  python3.12-lib2to3\n",
            "The following NEW packages will be installed:\n",
            "  python3.12-distutils python3.12-lib2to3\n",
            "0 upgraded, 2 newly installed, 0 to remove and 50 not upgraded.\n",
            "Need to get 310 kB of archives.\n",
            "After this operation, 1,176 kB of additional disk space will be used.\n",
            "Get:1 https://ppa.launchpadcontent.net/deadsnakes/ppa/ubuntu jammy/main amd64 python3.12-lib2to3 all 3.12.3-1+jammy1 [128 kB]\n",
            "Get:2 https://ppa.launchpadcontent.net/deadsnakes/ppa/ubuntu jammy/main amd64 python3.12-distutils all 3.12.0~a1-1+jammy1 [182 kB]\n",
            "Fetched 310 kB in 1s (209 kB/s)\n",
            "debconf: unable to initialize frontend: Dialog\n",
            "debconf: (No usable dialog-like program is installed, so the dialog based frontend cannot be used. at /usr/share/perl5/Debconf/FrontEnd/Dialog.pm line 78, <> line 2.)\n",
            "debconf: falling back to frontend: Readline\n",
            "debconf: unable to initialize frontend: Readline\n",
            "debconf: (This frontend requires a controlling tty.)\n",
            "debconf: falling back to frontend: Teletype\n",
            "dpkg-preconfigure: unable to re-open stdin: \n",
            "Selecting previously unselected package python3.12-lib2to3.\n",
            "(Reading database ... 123380 files and directories currently installed.)\n",
            "Preparing to unpack .../python3.12-lib2to3_3.12.3-1+jammy1_all.deb ...\n",
            "Unpacking python3.12-lib2to3 (3.12.3-1+jammy1) ...\n",
            "Selecting previously unselected package python3.12-distutils.\n",
            "Preparing to unpack .../python3.12-distutils_3.12.0~a1-1+jammy1_all.deb ...\n",
            "Unpacking python3.12-distutils (3.12.0~a1-1+jammy1) ...\n",
            "Setting up python3.12-lib2to3 (3.12.3-1+jammy1) ...\n",
            "Setting up python3.12-distutils (3.12.0~a1-1+jammy1) ...\n",
            "--2024-04-27 22:06:15--  https://bootstrap.pypa.io/get-pip.py\n",
            "Resolving bootstrap.pypa.io (bootstrap.pypa.io)... 151.101.0.175, 151.101.64.175, 151.101.128.175, ...\n",
            "Connecting to bootstrap.pypa.io (bootstrap.pypa.io)|151.101.0.175|:443... connected.\n",
            "HTTP request sent, awaiting response... 200 OK\n",
            "Length: 2635835 (2.5M) [text/x-python]\n",
            "Saving to: ‘get-pip.py’\n",
            "\n",
            "get-pip.py          100%[===================>]   2.51M  --.-KB/s    in 0.04s   \n",
            "\n",
            "2024-04-27 22:06:15 (64.5 MB/s) - ‘get-pip.py’ saved [2635835/2635835]\n",
            "\n",
            "Collecting pip\n",
            "  Using cached pip-24.0-py3-none-any.whl.metadata (3.6 kB)\n",
            "Collecting setuptools\n",
            "  Using cached setuptools-69.5.1-py3-none-any.whl.metadata (6.2 kB)\n",
            "Collecting wheel\n",
            "  Using cached wheel-0.43.0-py3-none-any.whl.metadata (2.2 kB)\n",
            "Using cached pip-24.0-py3-none-any.whl (2.1 MB)\n",
            "Using cached setuptools-69.5.1-py3-none-any.whl (894 kB)\n",
            "Using cached wheel-0.43.0-py3-none-any.whl (65 kB)\n",
            "Installing collected packages: wheel, setuptools, pip\n",
            "Successfully installed pip-24.0 setuptools-69.5.1 wheel-0.43.0\n",
            "\u001b[33mWARNING: Running pip as the 'root' user can result in broken permissions and conflicting behaviour with the system package manager. It is recommended to use a virtual environment instead: https://pip.pypa.io/warnings/venv\u001b[0m\u001b[33m\n",
            "\u001b[0mCollecting ipython\n",
            "  Downloading ipython-8.24.0-py3-none-any.whl.metadata (4.9 kB)\n",
            "Collecting ipython_genutils\n",
            "  Downloading ipython_genutils-0.2.0-py2.py3-none-any.whl.metadata (755 bytes)\n",
            "Collecting ipykernel\n",
            "  Downloading ipykernel-6.29.4-py3-none-any.whl.metadata (6.3 kB)\n",
            "Collecting jupyter_console\n",
            "  Downloading jupyter_console-6.6.3-py3-none-any.whl.metadata (5.8 kB)\n",
            "Collecting prompt_toolkit\n",
            "  Downloading prompt_toolkit-3.0.43-py3-none-any.whl.metadata (6.5 kB)\n",
            "Collecting httplib2\n",
            "  Downloading httplib2-0.22.0-py3-none-any.whl.metadata (2.6 kB)\n",
            "Collecting astor\n",
            "  Downloading astor-0.8.1-py2.py3-none-any.whl.metadata (4.2 kB)\n",
            "Collecting decorator (from ipython)\n",
            "  Downloading decorator-5.1.1-py3-none-any.whl.metadata (4.0 kB)\n",
            "Collecting jedi>=0.16 (from ipython)\n",
            "  Downloading jedi-0.19.1-py2.py3-none-any.whl.metadata (22 kB)\n",
            "Collecting matplotlib-inline (from ipython)\n",
            "  Downloading matplotlib_inline-0.1.7-py3-none-any.whl.metadata (3.9 kB)\n",
            "Collecting pygments>=2.4.0 (from ipython)\n",
            "  Downloading pygments-2.17.2-py3-none-any.whl.metadata (2.6 kB)\n",
            "Collecting stack-data (from ipython)\n",
            "  Downloading stack_data-0.6.3-py3-none-any.whl.metadata (18 kB)\n",
            "Collecting traitlets>=5.13.0 (from ipython)\n",
            "  Downloading traitlets-5.14.3-py3-none-any.whl.metadata (10 kB)\n",
            "Collecting typing-extensions>=4.6 (from ipython)\n",
            "  Downloading typing_extensions-4.11.0-py3-none-any.whl.metadata (3.0 kB)\n",
            "Collecting pexpect>4.3 (from ipython)\n",
            "  Downloading pexpect-4.9.0-py2.py3-none-any.whl.metadata (2.5 kB)\n",
            "Collecting comm>=0.1.1 (from ipykernel)\n",
            "  Downloading comm-0.2.2-py3-none-any.whl.metadata (3.7 kB)\n",
            "Collecting debugpy>=1.6.5 (from ipykernel)\n",
            "  Downloading debugpy-1.8.1-cp311-cp311-manylinux_2_17_x86_64.manylinux2014_x86_64.whl.metadata (1.1 kB)\n",
            "Collecting jupyter-client>=6.1.12 (from ipykernel)\n",
            "  Downloading jupyter_client-8.6.1-py3-none-any.whl.metadata (8.3 kB)\n",
            "Collecting jupyter-core!=5.0.*,>=4.12 (from ipykernel)\n",
            "  Downloading jupyter_core-5.7.2-py3-none-any.whl.metadata (3.4 kB)\n",
            "Collecting nest-asyncio (from ipykernel)\n",
            "  Downloading nest_asyncio-1.6.0-py3-none-any.whl.metadata (2.8 kB)\n",
            "Collecting packaging (from ipykernel)\n",
            "  Using cached packaging-24.0-py3-none-any.whl.metadata (3.2 kB)\n",
            "Collecting psutil (from ipykernel)\n",
            "  Downloading psutil-5.9.8-cp36-abi3-manylinux_2_12_x86_64.manylinux2010_x86_64.manylinux_2_17_x86_64.manylinux2014_x86_64.whl.metadata (21 kB)\n",
            "Collecting pyzmq>=24 (from ipykernel)\n",
            "  Downloading pyzmq-26.0.2-cp311-cp311-manylinux_2_28_x86_64.whl.metadata (6.1 kB)\n",
            "Collecting tornado>=6.1 (from ipykernel)\n",
            "  Downloading tornado-6.4-cp38-abi3-manylinux_2_5_x86_64.manylinux1_x86_64.manylinux_2_17_x86_64.manylinux2014_x86_64.whl.metadata (2.5 kB)\n",
            "Collecting wcwidth (from prompt_toolkit)\n",
            "  Downloading wcwidth-0.2.13-py2.py3-none-any.whl.metadata (14 kB)\n",
            "Collecting pyparsing!=3.0.0,!=3.0.1,!=3.0.2,!=3.0.3,<4,>=2.4.2 (from httplib2)\n",
            "  Downloading pyparsing-3.1.2-py3-none-any.whl.metadata (5.1 kB)\n",
            "Collecting parso<0.9.0,>=0.8.3 (from jedi>=0.16->ipython)\n",
            "  Downloading parso-0.8.4-py2.py3-none-any.whl.metadata (7.7 kB)\n",
            "Collecting python-dateutil>=2.8.2 (from jupyter-client>=6.1.12->ipykernel)\n",
            "  Downloading python_dateutil-2.9.0.post0-py2.py3-none-any.whl.metadata (8.4 kB)\n",
            "Collecting platformdirs>=2.5 (from jupyter-core!=5.0.*,>=4.12->ipykernel)\n",
            "  Downloading platformdirs-4.2.1-py3-none-any.whl.metadata (11 kB)\n",
            "Collecting ptyprocess>=0.5 (from pexpect>4.3->ipython)\n",
            "  Downloading ptyprocess-0.7.0-py2.py3-none-any.whl.metadata (1.3 kB)\n",
            "Collecting executing>=1.2.0 (from stack-data->ipython)\n",
            "  Downloading executing-2.0.1-py2.py3-none-any.whl.metadata (9.0 kB)\n",
            "Collecting asttokens>=2.1.0 (from stack-data->ipython)\n",
            "  Downloading asttokens-2.4.1-py2.py3-none-any.whl.metadata (5.2 kB)\n",
            "Collecting pure-eval (from stack-data->ipython)\n",
            "  Downloading pure_eval-0.2.2-py3-none-any.whl.metadata (6.2 kB)\n",
            "Requirement already satisfied: six>=1.12.0 in /usr/lib/python3/dist-packages (from asttokens>=2.1.0->stack-data->ipython) (1.16.0)\n",
            "Downloading ipython-8.24.0-py3-none-any.whl (816 kB)\n",
            "\u001b[2K   \u001b[90m━━━━━━━━━━━━━━━━━━━━━━━━━━━━━━━━━━━━━━━━\u001b[0m \u001b[32m816.5/816.5 kB\u001b[0m \u001b[31m21.5 MB/s\u001b[0m eta \u001b[36m0:00:00\u001b[0m\n",
            "\u001b[?25hDownloading ipython_genutils-0.2.0-py2.py3-none-any.whl (26 kB)\n",
            "Downloading ipykernel-6.29.4-py3-none-any.whl (117 kB)\n",
            "\u001b[2K   \u001b[90m━━━━━━━━━━━━━━━━━━━━━━━━━━━━━━━━━━━━━━━━\u001b[0m \u001b[32m117.1/117.1 kB\u001b[0m \u001b[31m9.0 MB/s\u001b[0m eta \u001b[36m0:00:00\u001b[0m\n",
            "\u001b[?25hDownloading jupyter_console-6.6.3-py3-none-any.whl (24 kB)\n",
            "Downloading prompt_toolkit-3.0.43-py3-none-any.whl (386 kB)\n",
            "\u001b[2K   \u001b[90m━━━━━━━━━━━━━━━━━━━━━━━━━━━━━━━━━━━━━━━━\u001b[0m \u001b[32m386.1/386.1 kB\u001b[0m \u001b[31m27.8 MB/s\u001b[0m eta \u001b[36m0:00:00\u001b[0m\n",
            "\u001b[?25hDownloading httplib2-0.22.0-py3-none-any.whl (96 kB)\n",
            "\u001b[2K   \u001b[90m━━━━━━━━━━━━━━━━━━━━━━━━━━━━━━━━━━━━━━━━\u001b[0m \u001b[32m96.9/96.9 kB\u001b[0m \u001b[31m8.4 MB/s\u001b[0m eta \u001b[36m0:00:00\u001b[0m\n",
            "\u001b[?25hDownloading astor-0.8.1-py2.py3-none-any.whl (27 kB)\n",
            "Downloading comm-0.2.2-py3-none-any.whl (7.2 kB)\n",
            "Downloading debugpy-1.8.1-cp311-cp311-manylinux_2_17_x86_64.manylinux2014_x86_64.whl (2.6 MB)\n",
            "\u001b[2K   \u001b[90m━━━━━━━━━━━━━━━━━━━━━━━━━━━━━━━━━━━━━━━━\u001b[0m \u001b[32m2.6/2.6 MB\u001b[0m \u001b[31m72.8 MB/s\u001b[0m eta \u001b[36m0:00:00\u001b[0m\n",
            "\u001b[?25hDownloading jedi-0.19.1-py2.py3-none-any.whl (1.6 MB)\n",
            "\u001b[2K   \u001b[90m━━━━━━━━━━━━━━━━━━━━━━━━━━━━━━━━━━━━━━━━\u001b[0m \u001b[32m1.6/1.6 MB\u001b[0m \u001b[31m60.4 MB/s\u001b[0m eta \u001b[36m0:00:00\u001b[0m\n",
            "\u001b[?25hDownloading jupyter_client-8.6.1-py3-none-any.whl (105 kB)\n",
            "\u001b[2K   \u001b[90m━━━━━━━━━━━━━━━━━━━━━━━━━━━━━━━━━━━━━━━━\u001b[0m \u001b[32m105.9/105.9 kB\u001b[0m \u001b[31m7.7 MB/s\u001b[0m eta \u001b[36m0:00:00\u001b[0m\n",
            "\u001b[?25hDownloading jupyter_core-5.7.2-py3-none-any.whl (28 kB)\n",
            "Downloading matplotlib_inline-0.1.7-py3-none-any.whl (9.9 kB)\n",
            "Downloading pexpect-4.9.0-py2.py3-none-any.whl (63 kB)\n",
            "\u001b[2K   \u001b[90m━━━━━━━━━━━━━━━━━━━━━━━━━━━━━━━━━━━━━━━━\u001b[0m \u001b[32m63.8/63.8 kB\u001b[0m \u001b[31m4.9 MB/s\u001b[0m eta \u001b[36m0:00:00\u001b[0m\n",
            "\u001b[?25hDownloading pygments-2.17.2-py3-none-any.whl (1.2 MB)\n",
            "\u001b[2K   \u001b[90m━━━━━━━━━━━━━━━━━━━━━━━━━━━━━━━━━━━━━━━━\u001b[0m \u001b[32m1.2/1.2 MB\u001b[0m \u001b[31m54.4 MB/s\u001b[0m eta \u001b[36m0:00:00\u001b[0m\n",
            "\u001b[?25hDownloading pyparsing-3.1.2-py3-none-any.whl (103 kB)\n",
            "\u001b[2K   \u001b[90m━━━━━━━━━━━━━━━━━━━━━━━━━━━━━━━━━━━━━━━━\u001b[0m \u001b[32m103.2/103.2 kB\u001b[0m \u001b[31m8.5 MB/s\u001b[0m eta \u001b[36m0:00:00\u001b[0m\n",
            "\u001b[?25hDownloading pyzmq-26.0.2-cp311-cp311-manylinux_2_28_x86_64.whl (920 kB)\n",
            "\u001b[2K   \u001b[90m━━━━━━━━━━━━━━━━━━━━━━━━━━━━━━━━━━━━━━━━\u001b[0m \u001b[32m920.1/920.1 kB\u001b[0m \u001b[31m47.9 MB/s\u001b[0m eta \u001b[36m0:00:00\u001b[0m\n",
            "\u001b[?25hDownloading tornado-6.4-cp38-abi3-manylinux_2_5_x86_64.manylinux1_x86_64.manylinux_2_17_x86_64.manylinux2014_x86_64.whl (435 kB)\n",
            "\u001b[2K   \u001b[90m━━━━━━━━━━━━━━━━━━━━━━━━━━━━━━━━━━━━━━━━\u001b[0m \u001b[32m435.4/435.4 kB\u001b[0m \u001b[31m30.2 MB/s\u001b[0m eta \u001b[36m0:00:00\u001b[0m\n",
            "\u001b[?25hDownloading traitlets-5.14.3-py3-none-any.whl (85 kB)\n",
            "\u001b[2K   \u001b[90m━━━━━━━━━━━━━━━━━━━━━━━━━━━━━━━━━━━━━━━━\u001b[0m \u001b[32m85.4/85.4 kB\u001b[0m \u001b[31m6.6 MB/s\u001b[0m eta \u001b[36m0:00:00\u001b[0m\n",
            "\u001b[?25hDownloading typing_extensions-4.11.0-py3-none-any.whl (34 kB)\n",
            "Downloading decorator-5.1.1-py3-none-any.whl (9.1 kB)\n",
            "Downloading nest_asyncio-1.6.0-py3-none-any.whl (5.2 kB)\n",
            "Using cached packaging-24.0-py3-none-any.whl (53 kB)\n",
            "Downloading psutil-5.9.8-cp36-abi3-manylinux_2_12_x86_64.manylinux2010_x86_64.manylinux_2_17_x86_64.manylinux2014_x86_64.whl (288 kB)\n",
            "\u001b[2K   \u001b[90m━━━━━━━━━━━━━━━━━━━━━━━━━━━━━━━━━━━━━━━━\u001b[0m \u001b[32m288.2/288.2 kB\u001b[0m \u001b[31m20.6 MB/s\u001b[0m eta \u001b[36m0:00:00\u001b[0m\n",
            "\u001b[?25hDownloading stack_data-0.6.3-py3-none-any.whl (24 kB)\n",
            "Downloading wcwidth-0.2.13-py2.py3-none-any.whl (34 kB)\n",
            "Downloading asttokens-2.4.1-py2.py3-none-any.whl (27 kB)\n",
            "Downloading executing-2.0.1-py2.py3-none-any.whl (24 kB)\n",
            "Downloading parso-0.8.4-py2.py3-none-any.whl (103 kB)\n",
            "\u001b[2K   \u001b[90m━━━━━━━━━━━━━━━━━━━━━━━━━━━━━━━━━━━━━━━━\u001b[0m \u001b[32m103.7/103.7 kB\u001b[0m \u001b[31m8.2 MB/s\u001b[0m eta \u001b[36m0:00:00\u001b[0m\n",
            "\u001b[?25hDownloading platformdirs-4.2.1-py3-none-any.whl (17 kB)\n",
            "Downloading ptyprocess-0.7.0-py2.py3-none-any.whl (13 kB)\n",
            "Downloading python_dateutil-2.9.0.post0-py2.py3-none-any.whl (229 kB)\n",
            "\u001b[2K   \u001b[90m━━━━━━━━━━━━━━━━━━━━━━━━━━━━━━━━━━━━━━━━\u001b[0m \u001b[32m229.9/229.9 kB\u001b[0m \u001b[31m17.3 MB/s\u001b[0m eta \u001b[36m0:00:00\u001b[0m\n",
            "\u001b[?25hDownloading pure_eval-0.2.2-py3-none-any.whl (11 kB)\n",
            "Installing collected packages: wcwidth, pure-eval, ptyprocess, ipython_genutils, typing-extensions, traitlets, tornado, pyzmq, python-dateutil, pyparsing, pygments, psutil, prompt_toolkit, platformdirs, pexpect, parso, packaging, nest-asyncio, executing, decorator, debugpy, asttokens, astor, stack-data, matplotlib-inline, jupyter-core, jedi, httplib2, comm, jupyter-client, ipython, ipykernel, jupyter_console\n",
            "Successfully installed astor-0.8.1 asttokens-2.4.1 comm-0.2.2 debugpy-1.8.1 decorator-5.1.1 executing-2.0.1 httplib2-0.22.0 ipykernel-6.29.4 ipython-8.24.0 ipython_genutils-0.2.0 jedi-0.19.1 jupyter-client-8.6.1 jupyter-core-5.7.2 jupyter_console-6.6.3 matplotlib-inline-0.1.7 nest-asyncio-1.6.0 packaging-24.0 parso-0.8.4 pexpect-4.9.0 platformdirs-4.2.1 prompt_toolkit-3.0.43 psutil-5.9.8 ptyprocess-0.7.0 pure-eval-0.2.2 pygments-2.17.2 pyparsing-3.1.2 python-dateutil-2.9.0.post0 pyzmq-26.0.2 stack-data-0.6.3 tornado-6.4 traitlets-5.14.3 typing-extensions-4.11.0 wcwidth-0.2.13\n",
            "\u001b[33mWARNING: Running pip as the 'root' user can result in broken permissions and conflicting behaviour with the system package manager. It is recommended to use a virtual environment instead: https://pip.pypa.io/warnings/venv\u001b[0m\u001b[33m\n",
            "\u001b[0m"
          ]
        }
      ]
    },
    {
      "cell_type": "code",
      "execution_count": null,
      "metadata": {
        "colab": {
          "base_uri": "https://localhost:8080/",
          "height": 1000
        },
        "id": "gjyMdqHaUPRu",
        "outputId": "225767a8-f02e-4c16-bbf7-2879ff086a70"
      },
      "outputs": [
        {
          "output_type": "stream",
          "name": "stdout",
          "text": [
            "Collecting vectordb-bench\n",
            "  Downloading vectordb_bench-0.0.8-py3-none-any.whl.metadata (22 kB)\n",
            "Collecting pytz (from vectordb-bench)\n",
            "  Downloading pytz-2024.1-py2.py3-none-any.whl.metadata (22 kB)\n",
            "Collecting streamlit-autorefresh (from vectordb-bench)\n",
            "  Downloading streamlit_autorefresh-1.0.1-py3-none-any.whl.metadata (436 bytes)\n",
            "Collecting streamlit>=1.23.0 (from vectordb-bench)\n",
            "  Downloading streamlit-1.33.0-py2.py3-none-any.whl.metadata (8.5 kB)\n",
            "Collecting streamlit-extras (from vectordb-bench)\n",
            "  Downloading streamlit_extras-0.4.2-py3-none-any.whl.metadata (3.8 kB)\n",
            "Collecting tqdm (from vectordb-bench)\n",
            "  Downloading tqdm-4.66.2-py3-none-any.whl.metadata (57 kB)\n",
            "\u001b[2K     \u001b[90m━━━━━━━━━━━━━━━━━━━━━━━━━━━━━━━━━━━━━━━━\u001b[0m \u001b[32m57.6/57.6 kB\u001b[0m \u001b[31m3.2 MB/s\u001b[0m eta \u001b[36m0:00:00\u001b[0m\n",
            "\u001b[?25hCollecting s3fs (from vectordb-bench)\n",
            "  Downloading s3fs-2024.3.1-py3-none-any.whl.metadata (1.6 kB)\n",
            "Collecting oss2 (from vectordb-bench)\n",
            "  Downloading oss2-2.18.4.tar.gz (278 kB)\n",
            "\u001b[2K     \u001b[90m━━━━━━━━━━━━━━━━━━━━━━━━━━━━━━━━━━━━━━━━\u001b[0m \u001b[32m278.1/278.1 kB\u001b[0m \u001b[31m12.1 MB/s\u001b[0m eta \u001b[36m0:00:00\u001b[0m\n",
            "\u001b[?25h  Preparing metadata (setup.py) ... \u001b[?25l\u001b[?25hdone\n",
            "Requirement already satisfied: psutil in /usr/local/lib/python3.11/dist-packages (from vectordb-bench) (5.9.8)\n",
            "Collecting polars (from vectordb-bench)\n",
            "  Downloading polars-0.20.22-cp38-abi3-manylinux_2_17_x86_64.manylinux2014_x86_64.whl.metadata (14 kB)\n",
            "Collecting plotly (from vectordb-bench)\n",
            "  Downloading plotly-5.21.0-py3-none-any.whl.metadata (7.1 kB)\n",
            "Collecting environs (from vectordb-bench)\n",
            "  Downloading environs-11.0.0-py3-none-any.whl.metadata (13 kB)\n",
            "Collecting pydantic<v2 (from vectordb-bench)\n",
            "  Downloading pydantic-1.10.15-cp311-cp311-manylinux_2_17_x86_64.manylinux2014_x86_64.whl.metadata (150 kB)\n",
            "\u001b[2K     \u001b[90m━━━━━━━━━━━━━━━━━━━━━━━━━━━━━━━━━━━━━━━━\u001b[0m \u001b[32m150.6/150.6 kB\u001b[0m \u001b[31m10.3 MB/s\u001b[0m eta \u001b[36m0:00:00\u001b[0m\n",
            "\u001b[?25hCollecting scikit-learn (from vectordb-bench)\n",
            "  Downloading scikit_learn-1.4.2-cp311-cp311-manylinux_2_17_x86_64.manylinux2014_x86_64.whl.metadata (11 kB)\n",
            "Collecting pymilvus (from vectordb-bench)\n",
            "  Downloading pymilvus-2.4.0-1-py3-none-any.whl.metadata (4.5 kB)\n",
            "Requirement already satisfied: typing-extensions>=4.2.0 in /usr/local/lib/python3.11/dist-packages (from pydantic<v2->vectordb-bench) (4.11.0)\n",
            "Collecting altair<6,>=4.0 (from streamlit>=1.23.0->vectordb-bench)\n",
            "  Downloading altair-5.3.0-py3-none-any.whl.metadata (9.2 kB)\n",
            "Requirement already satisfied: blinker<2,>=1.0.0 in /usr/lib/python3/dist-packages (from streamlit>=1.23.0->vectordb-bench) (1.4)\n",
            "Collecting cachetools<6,>=4.0 (from streamlit>=1.23.0->vectordb-bench)\n",
            "  Downloading cachetools-5.3.3-py3-none-any.whl.metadata (5.3 kB)\n",
            "Collecting click<9,>=7.0 (from streamlit>=1.23.0->vectordb-bench)\n",
            "  Using cached click-8.1.7-py3-none-any.whl.metadata (3.0 kB)\n",
            "Collecting numpy<2,>=1.19.3 (from streamlit>=1.23.0->vectordb-bench)\n",
            "  Downloading numpy-1.26.4-cp311-cp311-manylinux_2_17_x86_64.manylinux2014_x86_64.whl.metadata (61 kB)\n",
            "\u001b[2K     \u001b[90m━━━━━━━━━━━━━━━━━━━━━━━━━━━━━━━━━━━━━━━━\u001b[0m \u001b[32m61.0/61.0 kB\u001b[0m \u001b[31m4.0 MB/s\u001b[0m eta \u001b[36m0:00:00\u001b[0m\n",
            "\u001b[?25hRequirement already satisfied: packaging<25,>=16.8 in /usr/local/lib/python3.11/dist-packages (from streamlit>=1.23.0->vectordb-bench) (24.0)\n",
            "Collecting pandas<3,>=1.3.0 (from streamlit>=1.23.0->vectordb-bench)\n",
            "  Downloading pandas-2.2.2-cp311-cp311-manylinux_2_17_x86_64.manylinux2014_x86_64.whl.metadata (19 kB)\n",
            "Collecting pillow<11,>=7.1.0 (from streamlit>=1.23.0->vectordb-bench)\n",
            "  Downloading pillow-10.3.0-cp311-cp311-manylinux_2_28_x86_64.whl.metadata (9.2 kB)\n",
            "Collecting protobuf<5,>=3.20 (from streamlit>=1.23.0->vectordb-bench)\n",
            "  Downloading protobuf-4.25.3-cp37-abi3-manylinux2014_x86_64.whl.metadata (541 bytes)\n",
            "Collecting pyarrow>=7.0 (from streamlit>=1.23.0->vectordb-bench)\n",
            "  Downloading pyarrow-16.0.0-cp311-cp311-manylinux_2_28_x86_64.whl.metadata (3.0 kB)\n",
            "Collecting requests<3,>=2.27 (from streamlit>=1.23.0->vectordb-bench)\n",
            "  Downloading requests-2.31.0-py3-none-any.whl.metadata (4.6 kB)\n",
            "Collecting rich<14,>=10.14.0 (from streamlit>=1.23.0->vectordb-bench)\n",
            "  Downloading rich-13.7.1-py3-none-any.whl.metadata (18 kB)\n",
            "Collecting tenacity<9,>=8.1.0 (from streamlit>=1.23.0->vectordb-bench)\n",
            "  Downloading tenacity-8.2.3-py3-none-any.whl.metadata (1.0 kB)\n",
            "Collecting toml<2,>=0.10.1 (from streamlit>=1.23.0->vectordb-bench)\n",
            "  Downloading toml-0.10.2-py2.py3-none-any.whl.metadata (7.1 kB)\n",
            "Collecting gitpython!=3.1.19,<4,>=3.0.7 (from streamlit>=1.23.0->vectordb-bench)\n",
            "  Downloading GitPython-3.1.43-py3-none-any.whl.metadata (13 kB)\n",
            "Collecting pydeck<1,>=0.8.0b4 (from streamlit>=1.23.0->vectordb-bench)\n",
            "  Downloading pydeck-0.9.0b1-py2.py3-none-any.whl.metadata (4.1 kB)\n",
            "Requirement already satisfied: tornado<7,>=6.0.3 in /usr/local/lib/python3.11/dist-packages (from streamlit>=1.23.0->vectordb-bench) (6.4)\n",
            "Collecting watchdog>=2.1.5 (from streamlit>=1.23.0->vectordb-bench)\n",
            "  Downloading watchdog-4.0.0-py3-none-manylinux2014_x86_64.whl.metadata (37 kB)\n",
            "Collecting python-dotenv (from environs->vectordb-bench)\n",
            "  Downloading python_dotenv-1.0.1-py3-none-any.whl.metadata (23 kB)\n",
            "Collecting marshmallow>=3.13.0 (from environs->vectordb-bench)\n",
            "  Downloading marshmallow-3.21.1-py3-none-any.whl.metadata (7.2 kB)\n",
            "Collecting crcmod>=1.7 (from oss2->vectordb-bench)\n",
            "  Downloading crcmod-1.7.tar.gz (89 kB)\n",
            "\u001b[2K     \u001b[90m━━━━━━━━━━━━━━━━━━━━━━━━━━━━━━━━━━━━━━━━\u001b[0m \u001b[32m89.7/89.7 kB\u001b[0m \u001b[31m7.0 MB/s\u001b[0m eta \u001b[36m0:00:00\u001b[0m\n",
            "\u001b[?25h  Preparing metadata (setup.py) ... \u001b[?25l\u001b[?25hdone\n",
            "Collecting pycryptodome>=3.4.7 (from oss2->vectordb-bench)\n",
            "  Downloading pycryptodome-3.20.0-cp35-abi3-manylinux_2_17_x86_64.manylinux2014_x86_64.whl.metadata (3.4 kB)\n",
            "Collecting aliyun-python-sdk-kms>=2.4.1 (from oss2->vectordb-bench)\n",
            "  Downloading aliyun_python_sdk_kms-2.16.2-py2.py3-none-any.whl.metadata (1.5 kB)\n",
            "Collecting aliyun-python-sdk-core>=2.13.12 (from oss2->vectordb-bench)\n",
            "  Downloading aliyun-python-sdk-core-2.15.1.tar.gz (443 kB)\n",
            "\u001b[2K     \u001b[90m━━━━━━━━━━━━━━━━━━━━━━━━━━━━━━━━━━━━━━━━\u001b[0m \u001b[32m443.1/443.1 kB\u001b[0m \u001b[31m21.8 MB/s\u001b[0m eta \u001b[36m0:00:00\u001b[0m\n",
            "\u001b[?25h  Preparing metadata (setup.py) ... \u001b[?25l\u001b[?25hdone\n",
            "Requirement already satisfied: six in /usr/lib/python3/dist-packages (from oss2->vectordb-bench) (1.16.0)\n",
            "Requirement already satisfied: setuptools>=67 in /usr/local/lib/python3.11/dist-packages (from pymilvus->vectordb-bench) (69.5.1)\n",
            "Collecting grpcio<=1.60.0,>=1.49.1 (from pymilvus->vectordb-bench)\n",
            "  Downloading grpcio-1.60.0-cp311-cp311-manylinux_2_17_x86_64.manylinux2014_x86_64.whl.metadata (4.0 kB)\n",
            "Collecting environs (from vectordb-bench)\n",
            "  Downloading environs-9.5.0-py2.py3-none-any.whl.metadata (14 kB)\n",
            "Collecting ujson>=2.0.0 (from pymilvus->vectordb-bench)\n",
            "  Downloading ujson-5.9.0-cp311-cp311-manylinux_2_17_x86_64.manylinux2014_x86_64.whl.metadata (8.7 kB)\n",
            "Collecting minio>=7.0.0 (from pymilvus->vectordb-bench)\n",
            "  Downloading minio-7.2.6-py3-none-any.whl.metadata (6.4 kB)\n",
            "Collecting azure-storage-blob (from pymilvus->vectordb-bench)\n",
            "  Downloading azure_storage_blob-12.19.1-py3-none-any.whl.metadata (26 kB)\n",
            "Collecting scipy (from pymilvus->vectordb-bench)\n",
            "  Downloading scipy-1.13.0-cp311-cp311-manylinux_2_17_x86_64.manylinux2014_x86_64.whl.metadata (60 kB)\n",
            "\u001b[2K     \u001b[90m━━━━━━━━━━━━━━━━━━━━━━━━━━━━━━━━━━━━━━━━\u001b[0m \u001b[32m60.6/60.6 kB\u001b[0m \u001b[31m4.7 MB/s\u001b[0m eta \u001b[36m0:00:00\u001b[0m\n",
            "\u001b[?25hCollecting aiobotocore<3.0.0,>=2.5.4 (from s3fs->vectordb-bench)\n",
            "  Downloading aiobotocore-2.12.3-py3-none-any.whl.metadata (21 kB)\n",
            "Collecting fsspec==2024.3.1 (from s3fs->vectordb-bench)\n",
            "  Downloading fsspec-2024.3.1-py3-none-any.whl.metadata (6.8 kB)\n",
            "Collecting aiohttp!=4.0.0a0,!=4.0.0a1 (from s3fs->vectordb-bench)\n",
            "  Downloading aiohttp-3.9.5-cp311-cp311-manylinux_2_17_x86_64.manylinux2014_x86_64.whl.metadata (7.5 kB)\n",
            "Collecting joblib>=1.2.0 (from scikit-learn->vectordb-bench)\n",
            "  Downloading joblib-1.4.0-py3-none-any.whl.metadata (5.4 kB)\n",
            "Collecting threadpoolctl>=2.0.0 (from scikit-learn->vectordb-bench)\n",
            "  Downloading threadpoolctl-3.4.0-py3-none-any.whl.metadata (13 kB)\n",
            "Collecting entrypoints>=0.4 (from streamlit-extras->vectordb-bench)\n",
            "  Downloading entrypoints-0.4-py3-none-any.whl.metadata (2.6 kB)\n",
            "Collecting htbuilder>=0.6.2 (from streamlit-extras->vectordb-bench)\n",
            "  Downloading htbuilder-0.6.2-py3-none-any.whl.metadata (5.9 kB)\n",
            "Collecting markdownlit>=0.0.5 (from streamlit-extras->vectordb-bench)\n",
            "  Downloading markdownlit-0.0.7-py3-none-any.whl.metadata (14 kB)\n",
            "Collecting prometheus-client>=0.14.0 (from streamlit-extras->vectordb-bench)\n",
            "  Downloading prometheus_client-0.20.0-py3-none-any.whl.metadata (1.8 kB)\n",
            "Collecting st-annotated-text>=3.0.0 (from streamlit-extras->vectordb-bench)\n",
            "  Downloading st_annotated_text-4.0.1-py3-none-any.whl.metadata (2.2 kB)\n",
            "Collecting streamlit-camera-input-live>=0.2.0 (from streamlit-extras->vectordb-bench)\n",
            "  Downloading streamlit_camera_input_live-0.2.0-py3-none-any.whl.metadata (1.5 kB)\n",
            "Collecting streamlit-card>=0.0.4 (from streamlit-extras->vectordb-bench)\n",
            "  Downloading streamlit_card-1.0.0-py3-none-any.whl.metadata (4.0 kB)\n",
            "Collecting streamlit-embedcode>=0.1.2 (from streamlit-extras->vectordb-bench)\n",
            "  Downloading streamlit_embedcode-0.1.2-py3-none-any.whl.metadata (414 bytes)\n",
            "Collecting streamlit-faker>=0.0.2 (from streamlit-extras->vectordb-bench)\n",
            "  Downloading streamlit_faker-0.0.3-py3-none-any.whl.metadata (2.0 kB)\n",
            "Collecting streamlit-image-coordinates<0.2.0,>=0.1.1 (from streamlit-extras->vectordb-bench)\n",
            "  Downloading streamlit_image_coordinates-0.1.6-py3-none-any.whl.metadata (2.0 kB)\n",
            "Collecting streamlit-keyup>=0.1.9 (from streamlit-extras->vectordb-bench)\n",
            "  Downloading streamlit_keyup-0.2.4-py3-none-any.whl.metadata (2.0 kB)\n",
            "Collecting streamlit-toggle-switch>=1.0.2 (from streamlit-extras->vectordb-bench)\n",
            "  Downloading streamlit_toggle_switch-1.0.2-py3-none-any.whl.metadata (395 bytes)\n",
            "Collecting streamlit-vertical-slider>=2.5.5 (from streamlit-extras->vectordb-bench)\n",
            "  Downloading streamlit_vertical_slider-2.5.5-py3-none-any.whl.metadata (2.2 kB)\n",
            "Collecting validators>=0.20.0 (from streamlit-extras->vectordb-bench)\n",
            "  Downloading validators-0.28.1-py3-none-any.whl.metadata (3.6 kB)\n",
            "Collecting botocore<1.34.70,>=1.34.41 (from aiobotocore<3.0.0,>=2.5.4->s3fs->vectordb-bench)\n",
            "  Downloading botocore-1.34.69-py3-none-any.whl.metadata (5.7 kB)\n",
            "Collecting wrapt<2.0.0,>=1.10.10 (from aiobotocore<3.0.0,>=2.5.4->s3fs->vectordb-bench)\n",
            "  Downloading wrapt-1.16.0-cp311-cp311-manylinux_2_5_x86_64.manylinux1_x86_64.manylinux_2_17_x86_64.manylinux2014_x86_64.whl.metadata (6.6 kB)\n",
            "Collecting aioitertools<1.0.0,>=0.5.1 (from aiobotocore<3.0.0,>=2.5.4->s3fs->vectordb-bench)\n",
            "  Downloading aioitertools-0.11.0-py3-none-any.whl.metadata (3.3 kB)\n",
            "Collecting aiosignal>=1.1.2 (from aiohttp!=4.0.0a0,!=4.0.0a1->s3fs->vectordb-bench)\n",
            "  Downloading aiosignal-1.3.1-py3-none-any.whl.metadata (4.0 kB)\n",
            "Collecting attrs>=17.3.0 (from aiohttp!=4.0.0a0,!=4.0.0a1->s3fs->vectordb-bench)\n",
            "  Downloading attrs-23.2.0-py3-none-any.whl.metadata (9.5 kB)\n",
            "Collecting frozenlist>=1.1.1 (from aiohttp!=4.0.0a0,!=4.0.0a1->s3fs->vectordb-bench)\n",
            "  Downloading frozenlist-1.4.1-cp311-cp311-manylinux_2_5_x86_64.manylinux1_x86_64.manylinux_2_17_x86_64.manylinux2014_x86_64.whl.metadata (12 kB)\n",
            "Collecting multidict<7.0,>=4.5 (from aiohttp!=4.0.0a0,!=4.0.0a1->s3fs->vectordb-bench)\n",
            "  Downloading multidict-6.0.5-cp311-cp311-manylinux_2_17_x86_64.manylinux2014_x86_64.whl.metadata (4.2 kB)\n",
            "Collecting yarl<2.0,>=1.0 (from aiohttp!=4.0.0a0,!=4.0.0a1->s3fs->vectordb-bench)\n",
            "  Downloading yarl-1.9.4-cp311-cp311-manylinux_2_17_x86_64.manylinux2014_x86_64.whl.metadata (31 kB)\n",
            "Collecting jmespath<1.0.0,>=0.9.3 (from aliyun-python-sdk-core>=2.13.12->oss2->vectordb-bench)\n",
            "  Downloading jmespath-0.10.0-py2.py3-none-any.whl.metadata (8.0 kB)\n",
            "Collecting cryptography>=2.6.0 (from aliyun-python-sdk-core>=2.13.12->oss2->vectordb-bench)\n",
            "  Downloading cryptography-42.0.5-cp39-abi3-manylinux_2_28_x86_64.whl.metadata (5.3 kB)\n",
            "Collecting jinja2 (from altair<6,>=4.0->streamlit>=1.23.0->vectordb-bench)\n",
            "  Downloading Jinja2-3.1.3-py3-none-any.whl.metadata (3.3 kB)\n",
            "Collecting jsonschema>=3.0 (from altair<6,>=4.0->streamlit>=1.23.0->vectordb-bench)\n",
            "  Downloading jsonschema-4.21.1-py3-none-any.whl.metadata (7.8 kB)\n",
            "Collecting toolz (from altair<6,>=4.0->streamlit>=1.23.0->vectordb-bench)\n",
            "  Downloading toolz-0.12.1-py3-none-any.whl.metadata (5.1 kB)\n",
            "Collecting gitdb<5,>=4.0.1 (from gitpython!=3.1.19,<4,>=3.0.7->streamlit>=1.23.0->vectordb-bench)\n",
            "  Downloading gitdb-4.0.11-py3-none-any.whl.metadata (1.2 kB)\n",
            "Collecting more-itertools (from htbuilder>=0.6.2->streamlit-extras->vectordb-bench)\n",
            "  Downloading more_itertools-10.2.0-py3-none-any.whl.metadata (34 kB)\n",
            "Collecting markdown (from markdownlit>=0.0.5->streamlit-extras->vectordb-bench)\n",
            "  Downloading Markdown-3.6-py3-none-any.whl.metadata (7.0 kB)\n",
            "Collecting lxml (from markdownlit>=0.0.5->streamlit-extras->vectordb-bench)\n",
            "  Downloading lxml-5.2.1-cp311-cp311-manylinux_2_28_x86_64.whl.metadata (3.4 kB)\n",
            "Collecting favicon (from markdownlit>=0.0.5->streamlit-extras->vectordb-bench)\n",
            "  Downloading favicon-0.7.0-py2.py3-none-any.whl.metadata (4.9 kB)\n",
            "Collecting pymdown-extensions (from markdownlit>=0.0.5->streamlit-extras->vectordb-bench)\n",
            "  Downloading pymdown_extensions-10.8.1-py3-none-any.whl.metadata (3.0 kB)\n",
            "Collecting certifi (from minio>=7.0.0->pymilvus->vectordb-bench)\n",
            "  Downloading certifi-2024.2.2-py3-none-any.whl.metadata (2.2 kB)\n",
            "Collecting urllib3 (from minio>=7.0.0->pymilvus->vectordb-bench)\n",
            "  Downloading urllib3-2.2.1-py3-none-any.whl.metadata (6.4 kB)\n",
            "Collecting argon2-cffi (from minio>=7.0.0->pymilvus->vectordb-bench)\n",
            "  Downloading argon2_cffi-23.1.0-py3-none-any.whl.metadata (5.2 kB)\n",
            "Requirement already satisfied: python-dateutil>=2.8.2 in /usr/local/lib/python3.11/dist-packages (from pandas<3,>=1.3.0->streamlit>=1.23.0->vectordb-bench) (2.9.0.post0)\n",
            "Collecting tzdata>=2022.7 (from pandas<3,>=1.3.0->streamlit>=1.23.0->vectordb-bench)\n",
            "  Downloading tzdata-2024.1-py2.py3-none-any.whl.metadata (1.4 kB)\n",
            "Collecting charset-normalizer<4,>=2 (from requests<3,>=2.27->streamlit>=1.23.0->vectordb-bench)\n",
            "  Downloading charset_normalizer-3.3.2-cp311-cp311-manylinux_2_17_x86_64.manylinux2014_x86_64.whl.metadata (33 kB)\n",
            "Collecting idna<4,>=2.5 (from requests<3,>=2.27->streamlit>=1.23.0->vectordb-bench)\n",
            "  Downloading idna-3.7-py3-none-any.whl.metadata (9.9 kB)\n",
            "Collecting markdown-it-py>=2.2.0 (from rich<14,>=10.14.0->streamlit>=1.23.0->vectordb-bench)\n",
            "  Downloading markdown_it_py-3.0.0-py3-none-any.whl.metadata (6.9 kB)\n",
            "Requirement already satisfied: pygments<3.0.0,>=2.13.0 in /usr/local/lib/python3.11/dist-packages (from rich<14,>=10.14.0->streamlit>=1.23.0->vectordb-bench) (2.17.2)\n",
            "Collecting faker (from streamlit-faker>=0.0.2->streamlit-extras->vectordb-bench)\n",
            "  Downloading Faker-24.14.0-py3-none-any.whl.metadata (15 kB)\n",
            "Collecting matplotlib (from streamlit-faker>=0.0.2->streamlit-extras->vectordb-bench)\n",
            "  Downloading matplotlib-3.8.4-cp311-cp311-manylinux_2_17_x86_64.manylinux2014_x86_64.whl.metadata (5.8 kB)\n",
            "Collecting azure-core<2.0.0,>=1.28.0 (from azure-storage-blob->pymilvus->vectordb-bench)\n",
            "  Downloading azure_core-1.30.1-py3-none-any.whl.metadata (37 kB)\n",
            "Collecting isodate>=0.6.1 (from azure-storage-blob->pymilvus->vectordb-bench)\n",
            "  Downloading isodate-0.6.1-py2.py3-none-any.whl.metadata (9.6 kB)\n",
            "Collecting cffi>=1.12 (from cryptography>=2.6.0->aliyun-python-sdk-core>=2.13.12->oss2->vectordb-bench)\n",
            "  Downloading cffi-1.16.0-cp311-cp311-manylinux_2_17_x86_64.manylinux2014_x86_64.whl.metadata (1.5 kB)\n",
            "Collecting smmap<6,>=3.0.1 (from gitdb<5,>=4.0.1->gitpython!=3.1.19,<4,>=3.0.7->streamlit>=1.23.0->vectordb-bench)\n",
            "  Downloading smmap-5.0.1-py3-none-any.whl.metadata (4.3 kB)\n",
            "Collecting MarkupSafe>=2.0 (from jinja2->altair<6,>=4.0->streamlit>=1.23.0->vectordb-bench)\n",
            "  Downloading MarkupSafe-2.1.5-cp311-cp311-manylinux_2_17_x86_64.manylinux2014_x86_64.whl.metadata (3.0 kB)\n",
            "Collecting jsonschema-specifications>=2023.03.6 (from jsonschema>=3.0->altair<6,>=4.0->streamlit>=1.23.0->vectordb-bench)\n",
            "  Downloading jsonschema_specifications-2023.12.1-py3-none-any.whl.metadata (3.0 kB)\n",
            "Collecting referencing>=0.28.4 (from jsonschema>=3.0->altair<6,>=4.0->streamlit>=1.23.0->vectordb-bench)\n",
            "  Downloading referencing-0.35.0-py3-none-any.whl.metadata (2.8 kB)\n",
            "Collecting rpds-py>=0.7.1 (from jsonschema>=3.0->altair<6,>=4.0->streamlit>=1.23.0->vectordb-bench)\n",
            "  Downloading rpds_py-0.18.0-cp311-cp311-manylinux_2_17_x86_64.manylinux2014_x86_64.whl.metadata (4.1 kB)\n",
            "Collecting mdurl~=0.1 (from markdown-it-py>=2.2.0->rich<14,>=10.14.0->streamlit>=1.23.0->vectordb-bench)\n",
            "  Downloading mdurl-0.1.2-py3-none-any.whl.metadata (1.6 kB)\n",
            "Collecting argon2-cffi-bindings (from argon2-cffi->minio>=7.0.0->pymilvus->vectordb-bench)\n",
            "  Downloading argon2_cffi_bindings-21.2.0-cp36-abi3-manylinux_2_17_x86_64.manylinux2014_x86_64.whl.metadata (6.7 kB)\n",
            "Collecting beautifulsoup4>=4.7.0 (from favicon->markdownlit>=0.0.5->streamlit-extras->vectordb-bench)\n",
            "  Downloading beautifulsoup4-4.12.3-py3-none-any.whl.metadata (3.8 kB)\n",
            "Collecting contourpy>=1.0.1 (from matplotlib->streamlit-faker>=0.0.2->streamlit-extras->vectordb-bench)\n",
            "  Downloading contourpy-1.2.1-cp311-cp311-manylinux_2_17_x86_64.manylinux2014_x86_64.whl.metadata (5.8 kB)\n",
            "Collecting cycler>=0.10 (from matplotlib->streamlit-faker>=0.0.2->streamlit-extras->vectordb-bench)\n",
            "  Downloading cycler-0.12.1-py3-none-any.whl.metadata (3.8 kB)\n",
            "Collecting fonttools>=4.22.0 (from matplotlib->streamlit-faker>=0.0.2->streamlit-extras->vectordb-bench)\n",
            "  Downloading fonttools-4.51.0-cp311-cp311-manylinux_2_17_x86_64.manylinux2014_x86_64.whl.metadata (159 kB)\n",
            "\u001b[2K     \u001b[90m━━━━━━━━━━━━━━━━━━━━━━━━━━━━━━━━━━━━━━━━\u001b[0m \u001b[32m159.5/159.5 kB\u001b[0m \u001b[31m11.3 MB/s\u001b[0m eta \u001b[36m0:00:00\u001b[0m\n",
            "\u001b[?25hCollecting kiwisolver>=1.3.1 (from matplotlib->streamlit-faker>=0.0.2->streamlit-extras->vectordb-bench)\n",
            "  Downloading kiwisolver-1.4.5-cp311-cp311-manylinux_2_17_x86_64.manylinux2014_x86_64.whl.metadata (6.4 kB)\n",
            "Requirement already satisfied: pyparsing>=2.3.1 in /usr/local/lib/python3.11/dist-packages (from matplotlib->streamlit-faker>=0.0.2->streamlit-extras->vectordb-bench) (3.1.2)\n",
            "Collecting pyyaml (from pymdown-extensions->markdownlit>=0.0.5->streamlit-extras->vectordb-bench)\n",
            "  Downloading PyYAML-6.0.1-cp311-cp311-manylinux_2_17_x86_64.manylinux2014_x86_64.whl.metadata (2.1 kB)\n",
            "Collecting soupsieve>1.2 (from beautifulsoup4>=4.7.0->favicon->markdownlit>=0.0.5->streamlit-extras->vectordb-bench)\n",
            "  Downloading soupsieve-2.5-py3-none-any.whl.metadata (4.7 kB)\n",
            "Collecting pycparser (from cffi>=1.12->cryptography>=2.6.0->aliyun-python-sdk-core>=2.13.12->oss2->vectordb-bench)\n",
            "  Downloading pycparser-2.22-py3-none-any.whl.metadata (943 bytes)\n",
            "Downloading vectordb_bench-0.0.8-py3-none-any.whl (106 kB)\n",
            "\u001b[2K   \u001b[90m━━━━━━━━━━━━━━━━━━━━━━━━━━━━━━━━━━━━━━━━\u001b[0m \u001b[32m106.8/106.8 kB\u001b[0m \u001b[31m8.1 MB/s\u001b[0m eta \u001b[36m0:00:00\u001b[0m\n",
            "\u001b[?25hDownloading pydantic-1.10.15-cp311-cp311-manylinux_2_17_x86_64.manylinux2014_x86_64.whl (3.1 MB)\n",
            "\u001b[2K   \u001b[90m━━━━━━━━━━━━━━━━━━━━━━━━━━━━━━━━━━━━━━━━\u001b[0m \u001b[32m3.1/3.1 MB\u001b[0m \u001b[31m76.9 MB/s\u001b[0m eta \u001b[36m0:00:00\u001b[0m\n",
            "\u001b[?25hDownloading streamlit-1.33.0-py2.py3-none-any.whl (8.1 MB)\n",
            "\u001b[2K   \u001b[90m━━━━━━━━━━━━━━━━━━━━━━━━━━━━━━━━━━━━━━━━\u001b[0m \u001b[32m8.1/8.1 MB\u001b[0m \u001b[31m90.7 MB/s\u001b[0m eta \u001b[36m0:00:00\u001b[0m\n",
            "\u001b[?25hDownloading plotly-5.21.0-py3-none-any.whl (15.7 MB)\n",
            "\u001b[2K   \u001b[90m━━━━━━━━━━━━━━━━━━━━━━━━━━━━━━━━━━━━━━━━\u001b[0m \u001b[32m15.7/15.7 MB\u001b[0m \u001b[31m69.3 MB/s\u001b[0m eta \u001b[36m0:00:00\u001b[0m\n",
            "\u001b[?25hDownloading polars-0.20.22-cp38-abi3-manylinux_2_17_x86_64.manylinux2014_x86_64.whl (27.4 MB)\n",
            "\u001b[2K   \u001b[90m━━━━━━━━━━━━━━━━━━━━━━━━━━━━━━━━━━━━━━━━\u001b[0m \u001b[32m27.4/27.4 MB\u001b[0m \u001b[31m41.6 MB/s\u001b[0m eta \u001b[36m0:00:00\u001b[0m\n",
            "\u001b[?25hDownloading pymilvus-2.4.0-1-py3-none-any.whl (189 kB)\n",
            "\u001b[2K   \u001b[90m━━━━━━━━━━━━━━━━━━━━━━━━━━━━━━━━━━━━━━━━\u001b[0m \u001b[32m189.7/189.7 kB\u001b[0m \u001b[31m3.0 MB/s\u001b[0m eta \u001b[36m0:00:00\u001b[0m\n",
            "\u001b[?25hDownloading environs-9.5.0-py2.py3-none-any.whl (12 kB)\n",
            "Downloading pytz-2024.1-py2.py3-none-any.whl (505 kB)\n",
            "\u001b[2K   \u001b[90m━━━━━━━━━━━━━━━━━━━━━━━━━━━━━━━━━━━━━━━━\u001b[0m \u001b[32m505.5/505.5 kB\u001b[0m \u001b[31m29.6 MB/s\u001b[0m eta \u001b[36m0:00:00\u001b[0m\n",
            "\u001b[?25hDownloading s3fs-2024.3.1-py3-none-any.whl (29 kB)\n",
            "Downloading fsspec-2024.3.1-py3-none-any.whl (171 kB)\n",
            "\u001b[2K   \u001b[90m━━━━━━━━━━━━━━━━━━━━━━━━━━━━━━━━━━━━━━━━\u001b[0m \u001b[32m172.0/172.0 kB\u001b[0m \u001b[31m11.9 MB/s\u001b[0m eta \u001b[36m0:00:00\u001b[0m\n",
            "\u001b[?25hDownloading scikit_learn-1.4.2-cp311-cp311-manylinux_2_17_x86_64.manylinux2014_x86_64.whl (12.1 MB)\n",
            "\u001b[2K   \u001b[90m━━━━━━━━━━━━━━━━━━━━━━━━━━━━━━━━━━━━━━━━\u001b[0m \u001b[32m12.1/12.1 MB\u001b[0m \u001b[31m75.2 MB/s\u001b[0m eta \u001b[36m0:00:00\u001b[0m\n",
            "\u001b[?25hDownloading streamlit_autorefresh-1.0.1-py3-none-any.whl (700 kB)\n",
            "\u001b[2K   \u001b[90m━━━━━━━━━━━━━━━━━━━━━━━━━━━━━━━━━━━━━━━━\u001b[0m \u001b[32m700.8/700.8 kB\u001b[0m \u001b[31m36.4 MB/s\u001b[0m eta \u001b[36m0:00:00\u001b[0m\n",
            "\u001b[?25hDownloading streamlit_extras-0.4.2-py3-none-any.whl (70 kB)\n",
            "\u001b[2K   \u001b[90m━━━━━━━━━━━━━━━━━━━━━━━━━━━━━━━━━━━━━━━━\u001b[0m \u001b[32m70.5/70.5 kB\u001b[0m \u001b[31m5.1 MB/s\u001b[0m eta \u001b[36m0:00:00\u001b[0m\n",
            "\u001b[?25hDownloading tqdm-4.66.2-py3-none-any.whl (78 kB)\n",
            "\u001b[2K   \u001b[90m━━━━━━━━━━━━━━━━━━━━━━━━━━━━━━━━━━━━━━━━\u001b[0m \u001b[32m78.3/78.3 kB\u001b[0m \u001b[31m5.4 MB/s\u001b[0m eta \u001b[36m0:00:00\u001b[0m\n",
            "\u001b[?25hDownloading aiobotocore-2.12.3-py3-none-any.whl (76 kB)\n",
            "\u001b[2K   \u001b[90m━━━━━━━━━━━━━━━━━━━━━━━━━━━━━━━━━━━━━━━━\u001b[0m \u001b[32m76.5/76.5 kB\u001b[0m \u001b[31m5.4 MB/s\u001b[0m eta \u001b[36m0:00:00\u001b[0m\n",
            "\u001b[?25hDownloading aiohttp-3.9.5-cp311-cp311-manylinux_2_17_x86_64.manylinux2014_x86_64.whl (1.3 MB)\n",
            "\u001b[2K   \u001b[90m━━━━━━━━━━━━━━━━━━━━━━━━━━━━━━━━━━━━━━━━\u001b[0m \u001b[32m1.3/1.3 MB\u001b[0m \u001b[31m52.9 MB/s\u001b[0m eta \u001b[36m0:00:00\u001b[0m\n",
            "\u001b[?25hDownloading aliyun_python_sdk_kms-2.16.2-py2.py3-none-any.whl (94 kB)\n",
            "\u001b[2K   \u001b[90m━━━━━━━━━━━━━━━━━━━━━━━━━━━━━━━━━━━━━━━━\u001b[0m \u001b[32m94.0/94.0 kB\u001b[0m \u001b[31m5.2 MB/s\u001b[0m eta \u001b[36m0:00:00\u001b[0m\n",
            "\u001b[?25hDownloading altair-5.3.0-py3-none-any.whl (857 kB)\n",
            "\u001b[2K   \u001b[90m━━━━━━━━━━━━━━━━━━━━━━━━━━━━━━━━━━━━━━━━\u001b[0m \u001b[32m857.8/857.8 kB\u001b[0m \u001b[31m39.9 MB/s\u001b[0m eta \u001b[36m0:00:00\u001b[0m\n",
            "\u001b[?25hDownloading cachetools-5.3.3-py3-none-any.whl (9.3 kB)\n",
            "Using cached click-8.1.7-py3-none-any.whl (97 kB)\n",
            "Downloading entrypoints-0.4-py3-none-any.whl (5.3 kB)\n",
            "Downloading GitPython-3.1.43-py3-none-any.whl (207 kB)\n",
            "\u001b[2K   \u001b[90m━━━━━━━━━━━━━━━━━━━━━━━━━━━━━━━━━━━━━━━━\u001b[0m \u001b[32m207.3/207.3 kB\u001b[0m \u001b[31m16.1 MB/s\u001b[0m eta \u001b[36m0:00:00\u001b[0m\n",
            "\u001b[?25hDownloading grpcio-1.60.0-cp311-cp311-manylinux_2_17_x86_64.manylinux2014_x86_64.whl (5.4 MB)\n",
            "\u001b[2K   \u001b[90m━━━━━━━━━━━━━━━━━━━━━━━━━━━━━━━━━━━━━━━━\u001b[0m \u001b[32m5.4/5.4 MB\u001b[0m \u001b[31m72.7 MB/s\u001b[0m eta \u001b[36m0:00:00\u001b[0m\n",
            "\u001b[?25hDownloading htbuilder-0.6.2-py3-none-any.whl (12 kB)\n",
            "Downloading joblib-1.4.0-py3-none-any.whl (301 kB)\n",
            "\u001b[2K   \u001b[90m━━━━━━━━━━━━━━━━━━━━━━━━━━━━━━━━━━━━━━━━\u001b[0m \u001b[32m301.2/301.2 kB\u001b[0m \u001b[31m21.8 MB/s\u001b[0m eta \u001b[36m0:00:00\u001b[0m\n",
            "\u001b[?25hDownloading markdownlit-0.0.7-py3-none-any.whl (15 kB)\n",
            "Downloading marshmallow-3.21.1-py3-none-any.whl (49 kB)\n",
            "\u001b[2K   \u001b[90m━━━━━━━━━━━━━━━━━━━━━━━━━━━━━━━━━━━━━━━━\u001b[0m \u001b[32m49.4/49.4 kB\u001b[0m \u001b[31m3.4 MB/s\u001b[0m eta \u001b[36m0:00:00\u001b[0m\n",
            "\u001b[?25hDownloading minio-7.2.6-py3-none-any.whl (93 kB)\n",
            "\u001b[2K   \u001b[90m━━━━━━━━━━━━━━━━━━━━━━━━━━━━━━━━━━━━━━━━\u001b[0m \u001b[32m93.5/93.5 kB\u001b[0m \u001b[31m6.9 MB/s\u001b[0m eta \u001b[36m0:00:00\u001b[0m\n",
            "\u001b[?25hDownloading numpy-1.26.4-cp311-cp311-manylinux_2_17_x86_64.manylinux2014_x86_64.whl (18.3 MB)\n",
            "\u001b[2K   \u001b[90m━━━━━━━━━━━━━━━━━━━━━━━━━━━━━━━━━━━━━━━━\u001b[0m \u001b[32m18.3/18.3 MB\u001b[0m \u001b[31m62.3 MB/s\u001b[0m eta \u001b[36m0:00:00\u001b[0m\n",
            "\u001b[?25hDownloading pandas-2.2.2-cp311-cp311-manylinux_2_17_x86_64.manylinux2014_x86_64.whl (13.0 MB)\n",
            "\u001b[2K   \u001b[90m━━━━━━━━━━━━━━━━━━━━━━━━━━━━━━━━━━━━━━━━\u001b[0m \u001b[32m13.0/13.0 MB\u001b[0m \u001b[31m72.1 MB/s\u001b[0m eta \u001b[36m0:00:00\u001b[0m\n",
            "\u001b[?25hDownloading pillow-10.3.0-cp311-cp311-manylinux_2_28_x86_64.whl (4.5 MB)\n",
            "\u001b[2K   \u001b[90m━━━━━━━━━━━━━━━━━━━━━━━━━━━━━━━━━━━━━━━━\u001b[0m \u001b[32m4.5/4.5 MB\u001b[0m \u001b[31m75.9 MB/s\u001b[0m eta \u001b[36m0:00:00\u001b[0m\n",
            "\u001b[?25hDownloading prometheus_client-0.20.0-py3-none-any.whl (54 kB)\n",
            "\u001b[2K   \u001b[90m━━━━━━━━━━━━━━━━━━━━━━━━━━━━━━━━━━━━━━━━\u001b[0m \u001b[32m54.5/54.5 kB\u001b[0m \u001b[31m3.6 MB/s\u001b[0m eta \u001b[36m0:00:00\u001b[0m\n",
            "\u001b[?25hDownloading protobuf-4.25.3-cp37-abi3-manylinux2014_x86_64.whl (294 kB)\n",
            "\u001b[2K   \u001b[90m━━━━━━━━━━━━━━━━━━━━━━━━━━━━━━━━━━━━━━━━\u001b[0m \u001b[32m294.6/294.6 kB\u001b[0m \u001b[31m19.3 MB/s\u001b[0m eta \u001b[36m0:00:00\u001b[0m\n",
            "\u001b[?25hDownloading pyarrow-16.0.0-cp311-cp311-manylinux_2_28_x86_64.whl (40.8 MB)\n",
            "\u001b[2K   \u001b[90m━━━━━━━━━━━━━━━━━━━━━━━━━━━━━━━━━━━━━━━━\u001b[0m \u001b[32m40.8/40.8 MB\u001b[0m \u001b[31m10.0 MB/s\u001b[0m eta \u001b[36m0:00:00\u001b[0m\n",
            "\u001b[?25hDownloading pycryptodome-3.20.0-cp35-abi3-manylinux_2_17_x86_64.manylinux2014_x86_64.whl (2.1 MB)\n",
            "\u001b[2K   \u001b[90m━━━━━━━━━━━━━━━━━━━━━━━━━━━━━━━━━━━━━━━━\u001b[0m \u001b[32m2.1/2.1 MB\u001b[0m \u001b[31m70.8 MB/s\u001b[0m eta \u001b[36m0:00:00\u001b[0m\n",
            "\u001b[?25hDownloading pydeck-0.9.0b1-py2.py3-none-any.whl (5.8 MB)\n",
            "\u001b[2K   \u001b[90m━━━━━━━━━━━━━━━━━━━━━━━━━━━━━━━━━━━━━━━━\u001b[0m \u001b[32m5.8/5.8 MB\u001b[0m \u001b[31m86.3 MB/s\u001b[0m eta \u001b[36m0:00:00\u001b[0m\n",
            "\u001b[?25hDownloading requests-2.31.0-py3-none-any.whl (62 kB)\n",
            "\u001b[2K   \u001b[90m━━━━━━━━━━━━━━━━━━━━━━━━━━━━━━━━━━━━━━━━\u001b[0m \u001b[32m62.6/62.6 kB\u001b[0m \u001b[31m4.5 MB/s\u001b[0m eta \u001b[36m0:00:00\u001b[0m\n",
            "\u001b[?25hDownloading rich-13.7.1-py3-none-any.whl (240 kB)\n",
            "\u001b[2K   \u001b[90m━━━━━━━━━━━━━━━━━━━━━━━━━━━━━━━━━━━━━━━━\u001b[0m \u001b[32m240.7/240.7 kB\u001b[0m \u001b[31m17.8 MB/s\u001b[0m eta \u001b[36m0:00:00\u001b[0m\n",
            "\u001b[?25hDownloading scipy-1.13.0-cp311-cp311-manylinux_2_17_x86_64.manylinux2014_x86_64.whl (38.6 MB)\n",
            "\u001b[2K   \u001b[90m━━━━━━━━━━━━━━━━━━━━━━━━━━━━━━━━━━━━━━━━\u001b[0m \u001b[32m38.6/38.6 MB\u001b[0m \u001b[31m22.4 MB/s\u001b[0m eta \u001b[36m0:00:00\u001b[0m\n",
            "\u001b[?25hDownloading st_annotated_text-4.0.1-py3-none-any.whl (9.0 kB)\n",
            "Downloading streamlit_camera_input_live-0.2.0-py3-none-any.whl (6.6 kB)\n",
            "Downloading streamlit_card-1.0.0-py3-none-any.whl (680 kB)\n",
            "\u001b[2K   \u001b[90m━━━━━━━━━━━━━━━━━━━━━━━━━━━━━━━━━━━━━━━━\u001b[0m \u001b[32m680.8/680.8 kB\u001b[0m \u001b[31m41.2 MB/s\u001b[0m eta \u001b[36m0:00:00\u001b[0m\n",
            "\u001b[?25hDownloading streamlit_embedcode-0.1.2-py3-none-any.whl (3.5 kB)\n",
            "Downloading streamlit_faker-0.0.3-py3-none-any.whl (14 kB)\n",
            "Downloading streamlit_image_coordinates-0.1.6-py3-none-any.whl (6.3 kB)\n",
            "Downloading streamlit_keyup-0.2.4-py3-none-any.whl (7.4 kB)\n",
            "Downloading streamlit_toggle_switch-1.0.2-py3-none-any.whl (635 kB)\n",
            "\u001b[2K   \u001b[90m━━━━━━━━━━━━━━━━━━━━━━━━━━━━━━━━━━━━━━━━\u001b[0m \u001b[32m635.4/635.4 kB\u001b[0m \u001b[31m33.2 MB/s\u001b[0m eta \u001b[36m0:00:00\u001b[0m\n",
            "\u001b[?25hDownloading streamlit_vertical_slider-2.5.5-py3-none-any.whl (1.8 MB)\n",
            "\u001b[2K   \u001b[90m━━━━━━━━━━━━━━━━━━━━━━━━━━━━━━━━━━━━━━━━\u001b[0m \u001b[32m1.8/1.8 MB\u001b[0m \u001b[31m64.4 MB/s\u001b[0m eta \u001b[36m0:00:00\u001b[0m\n",
            "\u001b[?25hDownloading tenacity-8.2.3-py3-none-any.whl (24 kB)\n",
            "Downloading threadpoolctl-3.4.0-py3-none-any.whl (17 kB)\n",
            "Downloading toml-0.10.2-py2.py3-none-any.whl (16 kB)\n",
            "Downloading ujson-5.9.0-cp311-cp311-manylinux_2_17_x86_64.manylinux2014_x86_64.whl (53 kB)\n",
            "\u001b[2K   \u001b[90m━━━━━━━━━━━━━━━━━━━━━━━━━━━━━━━━━━━━━━━━\u001b[0m \u001b[32m53.2/53.2 kB\u001b[0m \u001b[31m4.4 MB/s\u001b[0m eta \u001b[36m0:00:00\u001b[0m\n",
            "\u001b[?25hDownloading validators-0.28.1-py3-none-any.whl (39 kB)\n",
            "Downloading watchdog-4.0.0-py3-none-manylinux2014_x86_64.whl (82 kB)\n",
            "\u001b[2K   \u001b[90m━━━━━━━━━━━━━━━━━━━━━━━━━━━━━━━━━━━━━━━━\u001b[0m \u001b[32m83.0/83.0 kB\u001b[0m \u001b[31m7.0 MB/s\u001b[0m eta \u001b[36m0:00:00\u001b[0m\n",
            "\u001b[?25hDownloading azure_storage_blob-12.19.1-py3-none-any.whl (394 kB)\n",
            "\u001b[2K   \u001b[90m━━━━━━━━━━━━━━━━━━━━━━━━━━━━━━━━━━━━━━━━\u001b[0m \u001b[32m394.5/394.5 kB\u001b[0m \u001b[31m25.9 MB/s\u001b[0m eta \u001b[36m0:00:00\u001b[0m\n",
            "\u001b[?25hDownloading python_dotenv-1.0.1-py3-none-any.whl (19 kB)\n",
            "Downloading aioitertools-0.11.0-py3-none-any.whl (23 kB)\n",
            "Downloading aiosignal-1.3.1-py3-none-any.whl (7.6 kB)\n",
            "Downloading attrs-23.2.0-py3-none-any.whl (60 kB)\n",
            "\u001b[2K   \u001b[90m━━━━━━━━━━━━━━━━━━━━━━━━━━━━━━━━━━━━━━━━\u001b[0m \u001b[32m60.8/60.8 kB\u001b[0m \u001b[31m4.8 MB/s\u001b[0m eta \u001b[36m0:00:00\u001b[0m\n",
            "\u001b[?25hDownloading azure_core-1.30.1-py3-none-any.whl (193 kB)\n",
            "\u001b[2K   \u001b[90m━━━━━━━━━━━━━━━━━━━━━━━━━━━━━━━━━━━━━━━━\u001b[0m \u001b[32m193.4/193.4 kB\u001b[0m \u001b[31m15.6 MB/s\u001b[0m eta \u001b[36m0:00:00\u001b[0m\n",
            "\u001b[?25hDownloading botocore-1.34.69-py3-none-any.whl (12.0 MB)\n",
            "\u001b[2K   \u001b[90m━━━━━━━━━━━━━━━━━━━━━━━━━━━━━━━━━━━━━━━━\u001b[0m \u001b[32m12.0/12.0 MB\u001b[0m \u001b[31m95.1 MB/s\u001b[0m eta \u001b[36m0:00:00\u001b[0m\n",
            "\u001b[?25hDownloading certifi-2024.2.2-py3-none-any.whl (163 kB)\n",
            "\u001b[2K   \u001b[90m━━━━━━━━━━━━━━━━━━━━━━━━━━━━━━━━━━━━━━━━\u001b[0m \u001b[32m163.8/163.8 kB\u001b[0m \u001b[31m11.0 MB/s\u001b[0m eta \u001b[36m0:00:00\u001b[0m\n",
            "\u001b[?25hDownloading charset_normalizer-3.3.2-cp311-cp311-manylinux_2_17_x86_64.manylinux2014_x86_64.whl (140 kB)\n",
            "\u001b[2K   \u001b[90m━━━━━━━━━━━━━━━━━━━━━━━━━━━━━━━━━━━━━━━━\u001b[0m \u001b[32m140.3/140.3 kB\u001b[0m \u001b[31m11.2 MB/s\u001b[0m eta \u001b[36m0:00:00\u001b[0m\n",
            "\u001b[?25hDownloading cryptography-42.0.5-cp39-abi3-manylinux_2_28_x86_64.whl (4.6 MB)\n",
            "\u001b[2K   \u001b[90m━━━━━━━━━━━━━━━━━━━━━━━━━━━━━━━━━━━━━━━━\u001b[0m \u001b[32m4.6/4.6 MB\u001b[0m \u001b[31m79.6 MB/s\u001b[0m eta \u001b[36m0:00:00\u001b[0m\n",
            "\u001b[?25hDownloading frozenlist-1.4.1-cp311-cp311-manylinux_2_5_x86_64.manylinux1_x86_64.manylinux_2_17_x86_64.manylinux2014_x86_64.whl (272 kB)\n",
            "\u001b[2K   \u001b[90m━━━━━━━━━━━━━━━━━━━━━━━━━━━━━━━━━━━━━━━━\u001b[0m \u001b[32m272.3/272.3 kB\u001b[0m \u001b[31m20.3 MB/s\u001b[0m eta \u001b[36m0:00:00\u001b[0m\n",
            "\u001b[?25hDownloading gitdb-4.0.11-py3-none-any.whl (62 kB)\n",
            "\u001b[2K   \u001b[90m━━━━━━━━━━━━━━━━━━━━━━━━━━━━━━━━━━━━━━━━\u001b[0m \u001b[32m62.7/62.7 kB\u001b[0m \u001b[31m5.5 MB/s\u001b[0m eta \u001b[36m0:00:00\u001b[0m\n",
            "\u001b[?25hDownloading idna-3.7-py3-none-any.whl (66 kB)\n",
            "\u001b[2K   \u001b[90m━━━━━━━━━━━━━━━━━━━━━━━━━━━━━━━━━━━━━━━━\u001b[0m \u001b[32m66.8/66.8 kB\u001b[0m \u001b[31m5.3 MB/s\u001b[0m eta \u001b[36m0:00:00\u001b[0m\n",
            "\u001b[?25hDownloading isodate-0.6.1-py2.py3-none-any.whl (41 kB)\n",
            "\u001b[2K   \u001b[90m━━━━━━━━━━━━━━━━━━━━━━━━━━━━━━━━━━━━━━━━\u001b[0m \u001b[32m41.7/41.7 kB\u001b[0m \u001b[31m3.2 MB/s\u001b[0m eta \u001b[36m0:00:00\u001b[0m\n",
            "\u001b[?25hDownloading Jinja2-3.1.3-py3-none-any.whl (133 kB)\n",
            "\u001b[2K   \u001b[90m━━━━━━━━━━━━━━━━━━━━━━━━━━━━━━━━━━━━━━━━\u001b[0m \u001b[32m133.2/133.2 kB\u001b[0m \u001b[31m10.9 MB/s\u001b[0m eta \u001b[36m0:00:00\u001b[0m\n",
            "\u001b[?25hDownloading jmespath-0.10.0-py2.py3-none-any.whl (24 kB)\n",
            "Downloading jsonschema-4.21.1-py3-none-any.whl (85 kB)\n",
            "\u001b[2K   \u001b[90m━━━━━━━━━━━━━━━━━━━━━━━━━━━━━━━━━━━━━━━━\u001b[0m \u001b[32m85.5/85.5 kB\u001b[0m \u001b[31m7.3 MB/s\u001b[0m eta \u001b[36m0:00:00\u001b[0m\n",
            "\u001b[?25hDownloading markdown_it_py-3.0.0-py3-none-any.whl (87 kB)\n",
            "\u001b[2K   \u001b[90m━━━━━━━━━━━━━━━━━━━━━━━━━━━━━━━━━━━━━━━━\u001b[0m \u001b[32m87.5/87.5 kB\u001b[0m \u001b[31m6.8 MB/s\u001b[0m eta \u001b[36m0:00:00\u001b[0m\n",
            "\u001b[?25hDownloading multidict-6.0.5-cp311-cp311-manylinux_2_17_x86_64.manylinux2014_x86_64.whl (128 kB)\n",
            "\u001b[2K   \u001b[90m━━━━━━━━━━━━━━━━━━━━━━━━━━━━━━━━━━━━━━━━\u001b[0m \u001b[32m128.7/128.7 kB\u001b[0m \u001b[31m9.8 MB/s\u001b[0m eta \u001b[36m0:00:00\u001b[0m\n",
            "\u001b[?25hDownloading tzdata-2024.1-py2.py3-none-any.whl (345 kB)\n",
            "\u001b[2K   \u001b[90m━━━━━━━━━━━━━━━━━━━━━━━━━━━━━━━━━━━━━━━━\u001b[0m \u001b[32m345.4/345.4 kB\u001b[0m \u001b[31m24.1 MB/s\u001b[0m eta \u001b[36m0:00:00\u001b[0m\n",
            "\u001b[?25hDownloading urllib3-2.2.1-py3-none-any.whl (121 kB)\n",
            "\u001b[2K   \u001b[90m━━━━━━━━━━━━━━━━━━━━━━━━━━━━━━━━━━━━━━━━\u001b[0m \u001b[32m121.1/121.1 kB\u001b[0m \u001b[31m10.4 MB/s\u001b[0m eta \u001b[36m0:00:00\u001b[0m\n",
            "\u001b[?25hDownloading wrapt-1.16.0-cp311-cp311-manylinux_2_5_x86_64.manylinux1_x86_64.manylinux_2_17_x86_64.manylinux2014_x86_64.whl (80 kB)\n",
            "\u001b[2K   \u001b[90m━━━━━━━━━━━━━━━━━━━━━━━━━━━━━━━━━━━━━━━━\u001b[0m \u001b[32m80.7/80.7 kB\u001b[0m \u001b[31m6.3 MB/s\u001b[0m eta \u001b[36m0:00:00\u001b[0m\n",
            "\u001b[?25hDownloading yarl-1.9.4-cp311-cp311-manylinux_2_17_x86_64.manylinux2014_x86_64.whl (328 kB)\n",
            "\u001b[2K   \u001b[90m━━━━━━━━━━━━━━━━━━━━━━━━━━━━━━━━━━━━━━━━\u001b[0m \u001b[32m328.1/328.1 kB\u001b[0m \u001b[31m20.3 MB/s\u001b[0m eta \u001b[36m0:00:00\u001b[0m\n",
            "\u001b[?25hDownloading argon2_cffi-23.1.0-py3-none-any.whl (15 kB)\n",
            "Downloading Faker-24.14.0-py3-none-any.whl (1.8 MB)\n",
            "\u001b[2K   \u001b[90m━━━━━━━━━━━━━━━━━━━━━━━━━━━━━━━━━━━━━━━━\u001b[0m \u001b[32m1.8/1.8 MB\u001b[0m \u001b[31m58.4 MB/s\u001b[0m eta \u001b[36m0:00:00\u001b[0m\n",
            "\u001b[?25hDownloading favicon-0.7.0-py2.py3-none-any.whl (5.9 kB)\n",
            "Downloading lxml-5.2.1-cp311-cp311-manylinux_2_28_x86_64.whl (5.0 MB)\n",
            "\u001b[2K   \u001b[90m━━━━━━━━━━━━━━━━━━━━━━━━━━━━━━━━━━━━━━━━\u001b[0m \u001b[32m5.0/5.0 MB\u001b[0m \u001b[31m83.7 MB/s\u001b[0m eta \u001b[36m0:00:00\u001b[0m\n",
            "\u001b[?25hDownloading Markdown-3.6-py3-none-any.whl (105 kB)\n",
            "\u001b[2K   \u001b[90m━━━━━━━━━━━━━━━━━━━━━━━━━━━━━━━━━━━━━━━━\u001b[0m \u001b[32m105.4/105.4 kB\u001b[0m \u001b[31m8.6 MB/s\u001b[0m eta \u001b[36m0:00:00\u001b[0m\n",
            "\u001b[?25hDownloading matplotlib-3.8.4-cp311-cp311-manylinux_2_17_x86_64.manylinux2014_x86_64.whl (11.6 MB)\n",
            "\u001b[2K   \u001b[90m━━━━━━━━━━━━━━━━━━━━━━━━━━━━━━━━━━━━━━━━\u001b[0m \u001b[32m11.6/11.6 MB\u001b[0m \u001b[31m83.9 MB/s\u001b[0m eta \u001b[36m0:00:00\u001b[0m\n",
            "\u001b[?25hDownloading more_itertools-10.2.0-py3-none-any.whl (57 kB)\n",
            "\u001b[2K   \u001b[90m━━━━━━━━━━━━━━━━━━━━━━━━━━━━━━━━━━━━━━━━\u001b[0m \u001b[32m57.0/57.0 kB\u001b[0m \u001b[31m4.1 MB/s\u001b[0m eta \u001b[36m0:00:00\u001b[0m\n",
            "\u001b[?25hDownloading pymdown_extensions-10.8.1-py3-none-any.whl (250 kB)\n",
            "\u001b[2K   \u001b[90m━━━━━━━━━━━━━━━━━━━━━━━━━━━━━━━━━━━━━━━━\u001b[0m \u001b[32m250.8/250.8 kB\u001b[0m \u001b[31m16.8 MB/s\u001b[0m eta \u001b[36m0:00:00\u001b[0m\n",
            "\u001b[?25hDownloading toolz-0.12.1-py3-none-any.whl (56 kB)\n",
            "\u001b[2K   \u001b[90m━━━━━━━━━━━━━━━━━━━━━━━━━━━━━━━━━━━━━━━━\u001b[0m \u001b[32m56.1/56.1 kB\u001b[0m \u001b[31m3.8 MB/s\u001b[0m eta \u001b[36m0:00:00\u001b[0m\n",
            "\u001b[?25hDownloading beautifulsoup4-4.12.3-py3-none-any.whl (147 kB)\n",
            "\u001b[2K   \u001b[90m━━━━━━━━━━━━━━━━━━━━━━━━━━━━━━━━━━━━━━━━\u001b[0m \u001b[32m147.9/147.9 kB\u001b[0m \u001b[31m12.5 MB/s\u001b[0m eta \u001b[36m0:00:00\u001b[0m\n",
            "\u001b[?25hDownloading cffi-1.16.0-cp311-cp311-manylinux_2_17_x86_64.manylinux2014_x86_64.whl (464 kB)\n",
            "\u001b[2K   \u001b[90m━━━━━━━━━━━━━━━━━━━━━━━━━━━━━━━━━━━━━━━━\u001b[0m \u001b[32m464.8/464.8 kB\u001b[0m \u001b[31m32.9 MB/s\u001b[0m eta \u001b[36m0:00:00\u001b[0m\n",
            "\u001b[?25hDownloading contourpy-1.2.1-cp311-cp311-manylinux_2_17_x86_64.manylinux2014_x86_64.whl (306 kB)\n",
            "\u001b[2K   \u001b[90m━━━━━━━━━━━━━━━━━━━━━━━━━━━━━━━━━━━━━━━━\u001b[0m \u001b[32m306.0/306.0 kB\u001b[0m \u001b[31m21.0 MB/s\u001b[0m eta \u001b[36m0:00:00\u001b[0m\n",
            "\u001b[?25hDownloading cycler-0.12.1-py3-none-any.whl (8.3 kB)\n",
            "Downloading fonttools-4.51.0-cp311-cp311-manylinux_2_17_x86_64.manylinux2014_x86_64.whl (4.9 MB)\n",
            "\u001b[2K   \u001b[90m━━━━━━━━━━━━━━━━━━━━━━━━━━━━━━━━━━━━━━━━\u001b[0m \u001b[32m4.9/4.9 MB\u001b[0m \u001b[31m73.7 MB/s\u001b[0m eta \u001b[36m0:00:00\u001b[0m\n",
            "\u001b[?25hDownloading jsonschema_specifications-2023.12.1-py3-none-any.whl (18 kB)\n",
            "Downloading kiwisolver-1.4.5-cp311-cp311-manylinux_2_17_x86_64.manylinux2014_x86_64.whl (1.4 MB)\n",
            "\u001b[2K   \u001b[90m━━━━━━━━━━━━━━━━━━━━━━━━━━━━━━━━━━━━━━━━\u001b[0m \u001b[32m1.4/1.4 MB\u001b[0m \u001b[31m62.3 MB/s\u001b[0m eta \u001b[36m0:00:00\u001b[0m\n",
            "\u001b[?25hDownloading MarkupSafe-2.1.5-cp311-cp311-manylinux_2_17_x86_64.manylinux2014_x86_64.whl (28 kB)\n",
            "Downloading mdurl-0.1.2-py3-none-any.whl (10.0 kB)\n",
            "Downloading referencing-0.35.0-py3-none-any.whl (26 kB)\n",
            "Downloading rpds_py-0.18.0-cp311-cp311-manylinux_2_17_x86_64.manylinux2014_x86_64.whl (1.1 MB)\n",
            "\u001b[2K   \u001b[90m━━━━━━━━━━━━━━━━━━━━━━━━━━━━━━━━━━━━━━━━\u001b[0m \u001b[32m1.1/1.1 MB\u001b[0m \u001b[31m48.8 MB/s\u001b[0m eta \u001b[36m0:00:00\u001b[0m\n",
            "\u001b[?25hDownloading smmap-5.0.1-py3-none-any.whl (24 kB)\n",
            "Downloading argon2_cffi_bindings-21.2.0-cp36-abi3-manylinux_2_17_x86_64.manylinux2014_x86_64.whl (86 kB)\n",
            "\u001b[2K   \u001b[90m━━━━━━━━━━━━━━━━━━━━━━━━━━━━━━━━━━━━━━━━\u001b[0m \u001b[32m86.2/86.2 kB\u001b[0m \u001b[31m7.0 MB/s\u001b[0m eta \u001b[36m0:00:00\u001b[0m\n",
            "\u001b[?25hDownloading PyYAML-6.0.1-cp311-cp311-manylinux_2_17_x86_64.manylinux2014_x86_64.whl (757 kB)\n",
            "\u001b[2K   \u001b[90m━━━━━━━━━━━━━━━━━━━━━━━━━━━━━━━━━━━━━━━━\u001b[0m \u001b[32m757.7/757.7 kB\u001b[0m \u001b[31m33.7 MB/s\u001b[0m eta \u001b[36m0:00:00\u001b[0m\n",
            "\u001b[?25hDownloading soupsieve-2.5-py3-none-any.whl (36 kB)\n",
            "Downloading pycparser-2.22-py3-none-any.whl (117 kB)\n",
            "\u001b[2K   \u001b[90m━━━━━━━━━━━━━━━━━━━━━━━━━━━━━━━━━━━━━━━━\u001b[0m \u001b[32m117.6/117.6 kB\u001b[0m \u001b[31m8.6 MB/s\u001b[0m eta \u001b[36m0:00:00\u001b[0m\n",
            "\u001b[?25hBuilding wheels for collected packages: oss2, aliyun-python-sdk-core, crcmod\n",
            "  Building wheel for oss2 (setup.py) ... \u001b[?25l\u001b[?25hdone\n",
            "  Created wheel for oss2: filename=oss2-2.18.4-py3-none-any.whl size=115939 sha256=47195fd1a10dac7de68a2615c68ec709b6a21f61618d2466ceefe85d54fbc974\n",
            "  Stored in directory: /root/.cache/pip/wheels/4e/33/dd/3a14939a3351802f833f8d77091228bf0d888a363e15b54a86\n",
            "  Building wheel for aliyun-python-sdk-core (setup.py) ... \u001b[?25l\u001b[?25hdone\n",
            "  Created wheel for aliyun-python-sdk-core: filename=aliyun_python_sdk_core-2.15.1-py3-none-any.whl size=535325 sha256=d57d56cc0c4071560b567c3b61f9d02b08687bb0d338a3920c43d9fa8d87ec83\n",
            "  Stored in directory: /root/.cache/pip/wheels/a8/3d/4d/0247faf6ab88eb63524d53c86ad8d3e9672f11babca7fd0e53\n",
            "  Building wheel for crcmod (setup.py) ... \u001b[?25l\u001b[?25hdone\n",
            "  Created wheel for crcmod: filename=crcmod-1.7-cp311-cp311-linux_x86_64.whl size=31657 sha256=2a6877d5dd069c34f994cac5bef5d49e0d3eeb58439c08da5f21524f7b545946\n",
            "  Stored in directory: /root/.cache/pip/wheels/23/94/7a/8cb7d14597e6395ce969933f01aed9ea8fa5f5b4d4c8a61e99\n",
            "Successfully built oss2 aliyun-python-sdk-core crcmod\n",
            "Installing collected packages: pytz, crcmod, wrapt, watchdog, validators, urllib3, ujson, tzdata, tqdm, toolz, toml, threadpoolctl, tenacity, soupsieve, smmap, rpds-py, pyyaml, python-dotenv, pydantic, pycryptodome, pycparser, protobuf, prometheus-client, polars, pillow, numpy, multidict, more-itertools, mdurl, marshmallow, MarkupSafe, markdown, lxml, kiwisolver, joblib, jmespath, isodate, idna, grpcio, fsspec, frozenlist, fonttools, entrypoints, cycler, click, charset-normalizer, certifi, cachetools, attrs, aioitertools, yarl, scipy, requests, referencing, pymdown-extensions, pyarrow, plotly, pandas, markdown-it-py, jinja2, htbuilder, gitdb, faker, environs, contourpy, cffi, botocore, beautifulsoup4, aiosignal, st-annotated-text, scikit-learn, rich, pydeck, matplotlib, jsonschema-specifications, gitpython, favicon, cryptography, azure-core, argon2-cffi-bindings, aiohttp, jsonschema, azure-storage-blob, argon2-cffi, aliyun-python-sdk-core, aiobotocore, s3fs, minio, altair, aliyun-python-sdk-kms, streamlit, pymilvus, oss2, streamlit-vertical-slider, streamlit-toggle-switch, streamlit-keyup, streamlit-image-coordinates, streamlit-embedcode, streamlit-card, streamlit-camera-input-live, streamlit-autorefresh, streamlit-faker, markdownlit, streamlit-extras, vectordb-bench\n",
            "Successfully installed MarkupSafe-2.1.5 aiobotocore-2.12.3 aiohttp-3.9.5 aioitertools-0.11.0 aiosignal-1.3.1 aliyun-python-sdk-core-2.15.1 aliyun-python-sdk-kms-2.16.2 altair-5.3.0 argon2-cffi-23.1.0 argon2-cffi-bindings-21.2.0 attrs-23.2.0 azure-core-1.30.1 azure-storage-blob-12.19.1 beautifulsoup4-4.12.3 botocore-1.34.69 cachetools-5.3.3 certifi-2024.2.2 cffi-1.16.0 charset-normalizer-3.3.2 click-8.1.7 contourpy-1.2.1 crcmod-1.7 cryptography-42.0.5 cycler-0.12.1 entrypoints-0.4 environs-9.5.0 faker-24.14.0 favicon-0.7.0 fonttools-4.51.0 frozenlist-1.4.1 fsspec-2024.3.1 gitdb-4.0.11 gitpython-3.1.43 grpcio-1.60.0 htbuilder-0.6.2 idna-3.7 isodate-0.6.1 jinja2-3.1.3 jmespath-0.10.0 joblib-1.4.0 jsonschema-4.21.1 jsonschema-specifications-2023.12.1 kiwisolver-1.4.5 lxml-5.2.1 markdown-3.6 markdown-it-py-3.0.0 markdownlit-0.0.7 marshmallow-3.21.1 matplotlib-3.8.4 mdurl-0.1.2 minio-7.2.6 more-itertools-10.2.0 multidict-6.0.5 numpy-1.26.4 oss2-2.18.4 pandas-2.2.2 pillow-10.3.0 plotly-5.21.0 polars-0.20.22 prometheus-client-0.20.0 protobuf-4.25.3 pyarrow-16.0.0 pycparser-2.22 pycryptodome-3.20.0 pydantic-1.10.15 pydeck-0.9.0b1 pymdown-extensions-10.8.1 pymilvus-2.4.0 python-dotenv-1.0.1 pytz-2024.1 pyyaml-6.0.1 referencing-0.35.0 requests-2.31.0 rich-13.7.1 rpds-py-0.18.0 s3fs-2024.3.1 scikit-learn-1.4.2 scipy-1.13.0 smmap-5.0.1 soupsieve-2.5 st-annotated-text-4.0.1 streamlit-1.33.0 streamlit-autorefresh-1.0.1 streamlit-camera-input-live-0.2.0 streamlit-card-1.0.0 streamlit-embedcode-0.1.2 streamlit-extras-0.4.2 streamlit-faker-0.0.3 streamlit-image-coordinates-0.1.6 streamlit-keyup-0.2.4 streamlit-toggle-switch-1.0.2 streamlit-vertical-slider-2.5.5 tenacity-8.2.3 threadpoolctl-3.4.0 toml-0.10.2 toolz-0.12.1 tqdm-4.66.2 tzdata-2024.1 ujson-5.9.0 urllib3-2.2.1 validators-0.28.1 vectordb-bench-0.0.8 watchdog-4.0.0 wrapt-1.16.0 yarl-1.9.4\n",
            "\u001b[33mWARNING: Running pip as the 'root' user can result in broken permissions and conflicting behaviour with the system package manager. It is recommended to use a virtual environment instead: https://pip.pypa.io/warnings/venv\u001b[0m\u001b[33m\n",
            "\u001b[0m"
          ]
        },
        {
          "output_type": "display_data",
          "data": {
            "application/vnd.colab-display-data+json": {
              "pip_warning": {
                "packages": [
                  "certifi",
                  "cffi",
                  "cycler",
                  "kiwisolver"
                ]
              },
              "id": "bd104b35eee44aed94cc99f0fbc740a1"
            }
          },
          "metadata": {}
        }
      ],
      "source": [
        "pip install vectordb-bench"
      ]
    },
    {
      "cell_type": "markdown",
      "source": [
        "# Run it"
      ],
      "metadata": {
        "id": "-AUwslPs4wg5"
      }
    },
    {
      "cell_type": "code",
      "source": [
        "!init_bench"
      ],
      "metadata": {
        "id": "ayM2vHduXHb4",
        "colab": {
          "base_uri": "https://localhost:8080/"
        },
        "outputId": "1b823fe3-9803-443f-db36-dd0655094f71"
      },
      "execution_count": null,
      "outputs": [
        {
          "output_type": "stream",
          "name": "stdout",
          "text": [
            "2024-04-27 22:08:37,583 | \u001b[92mINFO\u001b[0m: \u001b[92mall configs: [('ALIYUN_OSS_URL', 'assets.zilliz.com.cn/benchmark/'), ('AWS_S3_URL', 'assets.zilliz.com/benchmark/'), ('DATASET_LOCAL_DIR', PosixPath('/tmp/vectordb_bench/dataset')), ('DEFAULT_DATASET_URL', 'assets.zilliz.com/benchmark/'), ('DROP_OLD', True), ('LOG_LEVEL', 'INFO'), ('NUM_CONCURRENCY', [1, 5, 10, 15, 20, 25, 30, 35]), ('NUM_PER_BATCH', 5000), ('RESULTS_LOCAL_DIR', PosixPath('/usr/local/lib/python3.11/dist-packages/vectordb_bench/results')), ('USE_SHUFFLED_DATA', True)]\u001b[0m (__main__.py:11) (4235)\n",
            "\n",
            "Collecting usage statistics. To deactivate, set browser.gatherUsageStats to false.\n",
            "\u001b[0m\n",
            "\u001b[0m\n",
            "\u001b[34m\u001b[1m  You can now view your Streamlit app in your browser.\u001b[0m\n",
            "\u001b[0m\n",
            "\u001b[34m  Network URL: \u001b[0m\u001b[1mhttp://172.28.0.12:8501\u001b[0m\n",
            "\u001b[34m  External URL: \u001b[0m\u001b[1mhttp://34.105.58.161:8501\u001b[0m\n",
            "\u001b[0m\n",
            "\u001b[34m  Stopping...\u001b[0m\n",
            "2024-04-27 22:31:21,917 | \u001b[92mINFO\u001b[0m: \u001b[92mexit streamlit...\u001b[0m (__main__.py:33) (4235)\n"
          ]
        }
      ]
    },
    {
      "cell_type": "markdown",
      "source": [
        "# other"
      ],
      "metadata": {
        "id": "GlRMYzeAXGTq"
      }
    },
    {
      "cell_type": "code",
      "source": [
        "from urllib.request import urlretrieve\n",
        "import tarfile\n",
        "import numpy as np\n",
        "import struct\n",
        "import numpy as np\n",
        "import requests"
      ],
      "metadata": {
        "id": "ezjTCp12N4dE"
      },
      "execution_count": null,
      "outputs": []
    },
    {
      "cell_type": "code",
      "source": [
        "\n",
        "\n",
        "\"\"\"\n",
        "                  IO Utils\n",
        "\"\"\"\n",
        "\n",
        "\n",
        "def read_fbin(filename, start_idx=0, chunk_size=None):\n",
        "    \"\"\" Read *.fbin file that contains float32 vectors\n",
        "    Args:\n",
        "        :param filename (str): path to *.fbin file\n",
        "        :param start_idx (int): start reading vectors from this index\n",
        "        :param chunk_size (int): number of vectors to read.\n",
        "                                 If None, read all vectors\n",
        "    Returns:\n",
        "        Array of float32 vectors (numpy.ndarray)\n",
        "    \"\"\"\n",
        "    with open(filename, \"rb\") as f:\n",
        "        nvecs, dim = np.fromfile(f, count=2, dtype=np.int32)\n",
        "        nvecs = (nvecs - start_idx) if chunk_size is None else chunk_size\n",
        "        arr = np.fromfile(f, count=nvecs * dim, dtype=np.float32,\n",
        "                          offset=start_idx * 4 * dim)\n",
        "    return arr.reshape(nvecs, dim)"
      ],
      "metadata": {
        "id": "cZPxYekYOVkC"
      },
      "execution_count": null,
      "outputs": []
    },
    {
      "cell_type": "code",
      "source": [
        "\n",
        "link = \"https://storage.yandexcloud.net/yandex-research/ann-datasets/T2I/base.1M.fbin\"\n",
        "f = requests.get(link)\n",
        "print(f.text)"
      ],
      "metadata": {
        "id": "db0SVkazfaMB",
        "colab": {
          "base_uri": "https://localhost:8080/"
        },
        "outputId": "45db0a62-f545-4cbe-de30-4cdec068ff24"
      },
      "execution_count": null,
      "outputs": [
        {
          "output_type": "stream",
          "name": "stderr",
          "text": [
            "IOPub data rate exceeded.\n",
            "The notebook server will temporarily stop sending output\n",
            "to the client in order to avoid crashing it.\n",
            "To change this limit, set the config variable\n",
            "`--NotebookApp.iopub_data_rate_limit`.\n",
            "\n",
            "Current values:\n",
            "NotebookApp.iopub_data_rate_limit=1000000.0 (bytes/sec)\n",
            "NotebookApp.rate_limit_window=3.0 (secs)\n",
            "\n"
          ]
        }
      ]
    },
    {
      "cell_type": "code",
      "source": [
        "from requests import get\n",
        "\n",
        "\n",
        "url = \"https://storage.yandexcloud.net/yandex-research/ann-datasets/T2I/base.1M.fbin\"\n",
        "headers = {\"Range\": \"bytes=0-2000\"}  # first 2000 bytes\n",
        "\n",
        "r = get(url, headers=headers)"
      ],
      "metadata": {
        "id": "sJNqfay79r9-"
      },
      "execution_count": null,
      "outputs": []
    },
    {
      "cell_type": "code",
      "source": [
        "queryarray = read_fbin(\"/content/sample_data/query.public.10K.fbin\")"
      ],
      "metadata": {
        "id": "OqEfzk1TfI7D"
      },
      "execution_count": null,
      "outputs": []
    },
    {
      "cell_type": "code",
      "source": [
        "queryarray.shape"
      ],
      "metadata": {
        "colab": {
          "base_uri": "https://localhost:8080/"
        },
        "id": "coUXVeaVqsjW",
        "outputId": "0d12c03f-8691-42a7-d1a2-1b08ddb5057e"
      },
      "execution_count": null,
      "outputs": [
        {
          "output_type": "execute_result",
          "data": {
            "text/plain": [
              "(10000, 96)"
            ]
          },
          "metadata": {},
          "execution_count": 26
        }
      ]
    },
    {
      "cell_type": "code",
      "source": [
        "r.text"
      ],
      "metadata": {
        "colab": {
          "base_uri": "https://localhost:8080/",
          "height": 365
        },
        "id": "_ii2_nbJo3BM",
        "outputId": "033d06e7-48d8-49ee-ac53-6620a62b5d10"
      },
      "execution_count": null,
      "outputs": [
        {
          "output_type": "execute_result",
          "data": {
            "text/plain": [
              "'@B\\x0f\\x00�\\x00\\x00\\x00���\\x13y�=���=\\x18�$�\\x15�\\x16�ZF����ǻا¼t&���$��4��=|K�<��ǻ��?=���=�5a��b\\x0c=��P<P��;L��<��\\x10�ܓ�:\\x14�\\x0b;�j��f\\x06]=Z�a=\\'c�<h�ҽ��ɺ�tܼ@7\\t=\\x13�\\x12=�\"�=���=-�h�I\\x057�*�����b>g�q=a�Ͻp���A�8�\\x006�=��4�\\U000ea57d�\\x1aڼR8�f���(\\rO=�}7�R4Խ�t\\x08=\"j����\\x10��rl��iR=�����\\ueefdJ\\tȼq2�����<�sѼ*��<f�t<d���ќ\\x18���\\t<+�<��y�=�2\\x16>,\\x17-=\\x014�=\\x0e�a=̛����*��\\x14\\x0c�^�\\x03<պ���Q(��\\x18\\x19:�b��g�һ\\x015�=<�\\x07>�\\x15�=,L������\\x02;l=Ǒ�<f뻽7������=��\\x08=������\\x1a>\\x03�ѽ꜌�_\\x1cz=��I���Ľ0���<�\\x06�\\\\ԗ=}*ܽ��B<�D����Y;\\x19��=O\\x0b����d��H�<zz\\t�X�\\u07bc1#\\\\��\\x116=\\x1fד<�۠��\\x0f�2\\x16�<�璼�{���\\t\\u07bc\\x1a��<�ݫ���\\x18=I���6E����н��K���\\x15������j��\\x03V�����=yl�g0T=��d�r���D�\"��k��[�n<\"�\\x13�8Z\\\\=�\\x18)<�I�=��N��\\x01�=��>=������$���\\\\�\\x00�z<\\t�,�+ט<_L\\x14�V��=�!Y=LF�|㕼�\\x18�;\\n)��U�7=\\x1c{ʽt춽P��;-���`\\x0b�=W�Y�Pjw=\\x14}�<\\x01ᔽ�T5���˼�O~��n�����<��\\x16=�\\x17��\\x06���*��=��������G�K�\\x12T\\x05��\\x18�=Z\\x1e�;��G�O\\x13�=\\x15m\\x04�U�=��5�\\x08\\x1b�=�>�<8A\\x1d=��2=d��<�\\x1b\\x05���-��ʖ<�P0���d��LV<�m�=p�=��\\x1e���n���t��\\x0es� ��=#͉�Gv\\x13=��\\x03�@�3<��\\x13=\\x13��=�gZ��\\x19мP\\x0eh=��\\x00>WH\\x1f�`L�=a ��M�ҽK\\x05:��ꊽ~�A=ߎӽ�[�����=����*�\\x04<�Ԩ�ڝd=.�x<�w�<>����y�=�5L=\\x01C���x�<:d���p�;$Y[�@d�=~$�=<�\\x0e=6����w@<�0�=5�\\x0e�,樽�\\x1e\\x1f>�\\t=)�\\x1d=\\x08��:��\\x0f>@5\\x17=7ܚ��g��扫=4�(=6��=���=)�A=]+M�\\x12ъ=�>ȼ�~s��=\\x19����=�x\\r<\\x13\\x15�=\\x04W�;�\\x0e�=$~\\x06<����ȍ�;Y�H��.ν�Ֆ=�\\x01:��\\tP=<��<��K�j\\\\l��\\x1f\\x08=n���tDs=��i>VJ�;_�+�d�W=[k\\x15=� Ž\\x00\\x11R�ȵ���ͻ|N�<���=\\x06�\\x01��2�b�>���b��k�=�V���^\\x11���\\x17�-0\\x03�m\\x06\\x02��*N=��b�<&�=Ux-=\\x16�j=���=.\\x1d\\x07>�Ș=�B\\x0e�싇�:註��.<���\\x0b8%��Ν�9\\n�<F���\\x18}��a�\\x15>�<d=��z��ک<�ц��QZ;\\x02`\\x1e=\\x16<�=/�4�ط�=H`Ͻ\\x08\\x11k�\\x14��=��=!�f=L�\\x08=�U�=\\x1c���x\\x128>�\\x18����\\x1cY�<�\\x13���pѼ��d=\\x19&�=������b=wL\\x17�ٮռ�2��<ƃ:���=,ʷ<ouܼr��� �).��\\x03���D\\x02�=�\\'���:��6�\\x16�8�_:�ҽ�9[����:4ƣ=\\x0f��<�\\x1a����\\x1e���P=\\x04�=�\\x1a�==a1���;�\\x12ܽ�\\x01�>�Y��87����;���=�\\x10\\'<�\\x1aν�\\x04B;GL\"=Š�;�Ng�7\\x12�=�5ۼ�\\x06�=\\x198�=N͌���\\x06�\\x0f��=܋���q�=�IZ;\\x10eL=\\r��<F�T��\\x04����Ѽ��m=�\\x00\\x7f���ֽ���<�}<=\\x02��<�ٓ;����G���r�=���=�|�;\\x0c����hV=��N��-d<H=\\x1d:��W�W�\\r��7�<|Nr=\\x14[��4����bʽ74�<J\\x17��RI���Y�=L\\x07��,�\\x16�*\\x15ڼ�P�=���=b\\x03�=��\\x1f�Y0�<o�C=���<�)=bP��\\x14�+�D=)=B�6�)8;�q�,�.���bG4���\\x16�V�D�J��=\\x07�A��\\x07)��*�=x�c�0K��[]��:\\\\�=X\\x7f��\\x00�.=�*�:?�\\x0b>�^\\x12=\\x17�w����=`$j>\\x07��=�\\x07�<�\\x1a�����;\\x1c\\x1b���G\\x12���*�a\\x18T=c%��\\x19��=�9�=�P��\\x18@\\x19=W���f{ν���=\\x1e=�=�}�dL��P}M=F\\x10R=������Y��'"
            ],
            "application/vnd.google.colaboratory.intrinsic+json": {
              "type": "string"
            }
          },
          "metadata": {},
          "execution_count": 2
        }
      ]
    },
    {
      "cell_type": "code",
      "source": [
        "import numpy as np\n",
        "\n",
        "\n",
        "def fvecs_read(filename, c_contiguous=True):\n",
        "    fv = np.fromfile(filename, dtype=np.float32)\n",
        "    if fv.size == 0:\n",
        "        return np.zeros((0, 0))\n",
        "    dim = fv.view(np.int32)[0]\n",
        "    assert dim > 0\n",
        "    fv = fv.reshape(-1, 1 + dim)\n",
        "    if not all(fv.view(np.int32)[:, 0] == dim):\n",
        "        raise IOError(\"Non-uniform vector sizes in \" + filename)\n",
        "    fv = fv[:, 1:]\n",
        "    if c_contiguous:\n",
        "        fv = fv.copy()\n",
        "    return fv"
      ],
      "metadata": {
        "id": "K-gMeEGBo6Z4"
      },
      "execution_count": null,
      "outputs": []
    },
    {
      "cell_type": "code",
      "source": [
        "querysift = fvecs_read(\"/content/sample_data/sift_query.fvecs\")"
      ],
      "metadata": {
        "id": "oVETk_JiuiF2"
      },
      "execution_count": null,
      "outputs": []
    },
    {
      "cell_type": "code",
      "source": [
        "basesift = fvecs_read(\"/content/sample_data/sift_base.fvecs\")"
      ],
      "metadata": {
        "id": "K3E5I_34unP1"
      },
      "execution_count": null,
      "outputs": []
    },
    {
      "cell_type": "code",
      "source": [
        "groundsift =  fvecs_read(\"/content/sample_data/sift_groundtruth.ivecs\")"
      ],
      "metadata": {
        "id": "POCPefrrwBF9"
      },
      "execution_count": null,
      "outputs": []
    },
    {
      "cell_type": "code",
      "source": [
        "querysift"
      ],
      "metadata": {
        "colab": {
          "base_uri": "https://localhost:8080/"
        },
        "id": "nSNhaqTXwJSM",
        "outputId": "dcd9189b-fac3-4948-ca8f-8cb28c98fefe"
      },
      "execution_count": null,
      "outputs": [
        {
          "output_type": "execute_result",
          "data": {
            "text/plain": [
              "array([[  1.,   3.,  11., ...,  42.,  48.,  11.],\n",
              "       [ 40.,  25.,  11., ...,   3.,  19.,  13.],\n",
              "       [ 28.,   4.,   3., ...,   2.,  54.,  47.],\n",
              "       ...,\n",
              "       [  0.,  15.,  64., ...,   3.,  62., 118.],\n",
              "       [131.,   2.,   0., ...,   7.,   0.,   0.],\n",
              "       [ 23.,   0.,   0., ...,  79.,  16.,   4.]], dtype=float32)"
            ]
          },
          "metadata": {},
          "execution_count": 18
        }
      ]
    },
    {
      "cell_type": "code",
      "source": [
        "querysift.shape"
      ],
      "metadata": {
        "colab": {
          "base_uri": "https://localhost:8080/"
        },
        "id": "j-vpt2hewgR8",
        "outputId": "36d035c9-efce-43f0-e33f-e064d5f2f3eb"
      },
      "execution_count": null,
      "outputs": [
        {
          "output_type": "execute_result",
          "data": {
            "text/plain": [
              "(10000, 128)"
            ]
          },
          "metadata": {},
          "execution_count": 20
        }
      ]
    },
    {
      "cell_type": "code",
      "source": [
        "groundsift.shape"
      ],
      "metadata": {
        "colab": {
          "base_uri": "https://localhost:8080/"
        },
        "id": "7Vig91mUwiOQ",
        "outputId": "883a541b-661d-47a9-880b-c8757e1511d0"
      },
      "execution_count": null,
      "outputs": [
        {
          "output_type": "execute_result",
          "data": {
            "text/plain": [
              "(10000, 100)"
            ]
          },
          "metadata": {},
          "execution_count": 21
        }
      ]
    },
    {
      "cell_type": "code",
      "source": [
        "basesift.shape"
      ],
      "metadata": {
        "colab": {
          "base_uri": "https://localhost:8080/"
        },
        "id": "lFaXwChEwxEu",
        "outputId": "30623947-ceb7-40ee-b84b-0280977b20ca"
      },
      "execution_count": null,
      "outputs": [
        {
          "output_type": "execute_result",
          "data": {
            "text/plain": [
              "(1000000, 128)"
            ]
          },
          "metadata": {},
          "execution_count": 22
        }
      ]
    },
    {
      "cell_type": "code",
      "source": [
        "querysift.shape"
      ],
      "metadata": {
        "colab": {
          "base_uri": "https://localhost:8080/"
        },
        "id": "TqpVf2ulw9M4",
        "outputId": "f302159e-574a-49e4-f3d6-3d6eef1c09f3"
      },
      "execution_count": null,
      "outputs": [
        {
          "output_type": "execute_result",
          "data": {
            "text/plain": [
              "(10000, 128)"
            ]
          },
          "metadata": {},
          "execution_count": 24
        }
      ]
    },
    {
      "cell_type": "code",
      "source": [
        "groundsift"
      ],
      "metadata": {
        "colab": {
          "base_uri": "https://localhost:8080/"
        },
        "id": "hEvRe1EPxAVf",
        "outputId": "d278f0db-779b-4025-94b0-ba8194017c77"
      },
      "execution_count": null,
      "outputs": [
        {
          "output_type": "execute_result",
          "data": {
            "text/plain": [
              "array([[1.306129e-39, 1.310040e-39, 7.872677e-40, ..., 5.581456e-40,\n",
              "        1.305619e-39, 1.386952e-39],\n",
              "       [5.790824e-40, 5.788358e-40, 9.904910e-40, ..., 1.198357e-39,\n",
              "        1.185776e-39, 1.383185e-39],\n",
              "       [9.386388e-40, 5.728004e-40, 5.723772e-40, ..., 4.350681e-40,\n",
              "        1.361803e-39, 1.314282e-39],\n",
              "       ...,\n",
              "       [1.735578e-40, 1.728516e-40, 7.485022e-40, ..., 1.263621e-40,\n",
              "        9.605705e-40, 5.836044e-40],\n",
              "       [1.058439e-39, 1.058433e-39, 1.178163e-39, ..., 8.339604e-40,\n",
              "        8.425405e-40, 2.412756e-40],\n",
              "       [1.225216e-39, 6.509157e-40, 5.792127e-40, ..., 5.058477e-40,\n",
              "        5.884739e-40, 3.130879e-40]], dtype=float32)"
            ]
          },
          "metadata": {},
          "execution_count": 25
        }
      ]
    },
    {
      "cell_type": "code",
      "source": [
        "import subprocess\n",
        "\n",
        "def run_vectordbbench(server_address, server_port, collection_name, dimension, index_type, query_files, topk, num_queries, timeout, metric_type, output_filename):\n",
        "    # Construct the vectordbbench command\n",
        "    command = [\n",
        "        \"vectordbbench\",\n",
        "        \"--server_address\", server_address,\n",
        "        \"--server_port\", str(server_port),\n",
        "        \"--collection_name\", collection_name,\n",
        "        \"--dimension\", str(dimension),\n",
        "        \"--index_type\", index_type,\n",
        "        \"--query_files\", query_files,\n",
        "        \"--topk\", str(topk),\n",
        "        \"--nq\", str(num_queries),\n",
        "        \"--timeout\", str(timeout),\n",
        "        \"--metric_type\", metric_type,\n",
        "        \"--out_filename\", output_filename\n",
        "    ]\n",
        "\n",
        "    # Run the vectordbbench command\n",
        "    result = subprocess.run(command, stdout=subprocess.PIPE, stderr=subprocess.PIPE, text=True)\n",
        "\n",
        "    # Check if the command was successful\n",
        "    if result.returncode == 0:\n",
        "        print(\"vectordbbench command executed successfully!\")\n",
        "        print(\"Output:\", result.stdout)\n",
        "    else:\n",
        "        print(\"Error running vectordbbench command:\")\n",
        "        print(\"Output:\", result.stderr)\n",
        "\n",
        "# Example usage\n",
        "run_vectordbbench(\n",
        "    server_address=\"127.0.0.1\",\n",
        "    server_port=19530,\n",
        "    collection_name=\"my_collection\",\n",
        "    dimension=128,\n",
        "    index_type=\"IVF_FLAT\",\n",
        "    query_files=\"query_vectors.txt\",\n",
        "    topk=10,\n",
        "    num_queries=1000,\n",
        "    timeout=30,\n",
        "    metric_type=\"L2\",\n",
        "    output_filename=\"result.txt\"\n",
        ")\n"
      ],
      "metadata": {
        "id": "oGDiqpnsyEag"
      },
      "execution_count": null,
      "outputs": []
    }
  ]
}