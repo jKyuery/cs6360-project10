{
  "nbformat": 4,
  "nbformat_minor": 0,
  "metadata": {
    "colab": {
      "provenance": []
    },
    "kernelspec": {
      "name": "python3",
      "display_name": "Python 3"
    },
    "language_info": {
      "name": "python"
    }
  },
  "cells": [
    {
      "cell_type": "markdown",
      "source": [
        "# Pip install"
      ],
      "metadata": {
        "id": "21ZH60WOleH6"
      }
    },
    {
      "cell_type": "code",
      "source": [
        "pip install pymilvus grpcio-tools milvus"
      ],
      "metadata": {
        "colab": {
          "base_uri": "https://localhost:8080/"
        },
        "id": "IidTJLz3lXf6",
        "outputId": "ed03f7b5-f9cd-41db-ec27-37b205e3d821"
      },
      "execution_count": null,
      "outputs": [
        {
          "output_type": "stream",
          "name": "stdout",
          "text": [
            "Requirement already satisfied: pymilvus in /usr/local/lib/python3.10/dist-packages (2.4.0)\n",
            "Requirement already satisfied: grpcio-tools in /usr/local/lib/python3.10/dist-packages (1.60.0)\n",
            "Requirement already satisfied: milvus in /usr/local/lib/python3.10/dist-packages (2.3.5)\n",
            "Requirement already satisfied: setuptools>=67 in /usr/local/lib/python3.10/dist-packages (from pymilvus) (67.7.2)\n",
            "Requirement already satisfied: grpcio<=1.60.0,>=1.49.1 in /usr/local/lib/python3.10/dist-packages (from pymilvus) (1.60.0)\n",
            "Requirement already satisfied: protobuf>=3.20.0 in /usr/local/lib/python3.10/dist-packages (from pymilvus) (4.25.3)\n",
            "Requirement already satisfied: environs<=9.5.0 in /usr/local/lib/python3.10/dist-packages (from pymilvus) (9.5.0)\n",
            "Requirement already satisfied: ujson>=2.0.0 in /usr/local/lib/python3.10/dist-packages (from pymilvus) (5.9.0)\n",
            "Requirement already satisfied: pandas>=1.2.4 in /usr/local/lib/python3.10/dist-packages (from pymilvus) (2.0.3)\n",
            "Requirement already satisfied: requests in /usr/local/lib/python3.10/dist-packages (from pymilvus) (2.31.0)\n",
            "Requirement already satisfied: minio>=7.0.0 in /usr/local/lib/python3.10/dist-packages (from pymilvus) (7.2.6)\n",
            "Requirement already satisfied: pyarrow>=12.0.0 in /usr/local/lib/python3.10/dist-packages (from pymilvus) (14.0.2)\n",
            "Requirement already satisfied: azure-storage-blob in /usr/local/lib/python3.10/dist-packages (from pymilvus) (12.19.1)\n",
            "Requirement already satisfied: scipy in /usr/local/lib/python3.10/dist-packages (from pymilvus) (1.11.4)\n",
            "Requirement already satisfied: marshmallow>=3.0.0 in /usr/local/lib/python3.10/dist-packages (from environs<=9.5.0->pymilvus) (3.21.1)\n",
            "Requirement already satisfied: python-dotenv in /usr/local/lib/python3.10/dist-packages (from environs<=9.5.0->pymilvus) (1.0.1)\n",
            "Requirement already satisfied: certifi in /usr/local/lib/python3.10/dist-packages (from minio>=7.0.0->pymilvus) (2024.2.2)\n",
            "Requirement already satisfied: urllib3 in /usr/local/lib/python3.10/dist-packages (from minio>=7.0.0->pymilvus) (2.0.7)\n",
            "Requirement already satisfied: argon2-cffi in /usr/local/lib/python3.10/dist-packages (from minio>=7.0.0->pymilvus) (23.1.0)\n",
            "Requirement already satisfied: pycryptodome in /usr/local/lib/python3.10/dist-packages (from minio>=7.0.0->pymilvus) (3.20.0)\n",
            "Requirement already satisfied: typing-extensions in /usr/local/lib/python3.10/dist-packages (from minio>=7.0.0->pymilvus) (4.11.0)\n",
            "Requirement already satisfied: python-dateutil>=2.8.2 in /usr/local/lib/python3.10/dist-packages (from pandas>=1.2.4->pymilvus) (2.8.2)\n",
            "Requirement already satisfied: pytz>=2020.1 in /usr/local/lib/python3.10/dist-packages (from pandas>=1.2.4->pymilvus) (2023.4)\n",
            "Requirement already satisfied: tzdata>=2022.1 in /usr/local/lib/python3.10/dist-packages (from pandas>=1.2.4->pymilvus) (2024.1)\n",
            "Requirement already satisfied: numpy>=1.21.0 in /usr/local/lib/python3.10/dist-packages (from pandas>=1.2.4->pymilvus) (1.25.2)\n",
            "Requirement already satisfied: azure-core<2.0.0,>=1.28.0 in /usr/local/lib/python3.10/dist-packages (from azure-storage-blob->pymilvus) (1.30.1)\n",
            "Requirement already satisfied: cryptography>=2.1.4 in /usr/local/lib/python3.10/dist-packages (from azure-storage-blob->pymilvus) (42.0.5)\n",
            "Requirement already satisfied: isodate>=0.6.1 in /usr/local/lib/python3.10/dist-packages (from azure-storage-blob->pymilvus) (0.6.1)\n",
            "Requirement already satisfied: charset-normalizer<4,>=2 in /usr/local/lib/python3.10/dist-packages (from requests->pymilvus) (3.3.2)\n",
            "Requirement already satisfied: idna<4,>=2.5 in /usr/local/lib/python3.10/dist-packages (from requests->pymilvus) (3.7)\n",
            "Requirement already satisfied: six>=1.11.0 in /usr/local/lib/python3.10/dist-packages (from azure-core<2.0.0,>=1.28.0->azure-storage-blob->pymilvus) (1.16.0)\n",
            "Requirement already satisfied: cffi>=1.12 in /usr/local/lib/python3.10/dist-packages (from cryptography>=2.1.4->azure-storage-blob->pymilvus) (1.16.0)\n",
            "Requirement already satisfied: packaging>=17.0 in /usr/local/lib/python3.10/dist-packages (from marshmallow>=3.0.0->environs<=9.5.0->pymilvus) (24.0)\n",
            "Requirement already satisfied: argon2-cffi-bindings in /usr/local/lib/python3.10/dist-packages (from argon2-cffi->minio>=7.0.0->pymilvus) (21.2.0)\n",
            "Requirement already satisfied: pycparser in /usr/local/lib/python3.10/dist-packages (from cffi>=1.12->cryptography>=2.1.4->azure-storage-blob->pymilvus) (2.22)\n"
          ]
        }
      ]
    },
    {
      "cell_type": "markdown",
      "source": [
        "# *Restart Session before proceeding*"
      ],
      "metadata": {
        "id": "CA77FkieNPV2"
      }
    },
    {
      "cell_type": "code",
      "source": [
        "from pymilvus import Collection, connections\n",
        "\n",
        "# from milvus import Milvus, DataType\n",
        "\n",
        "from urllib.request import urlretrieve\n",
        "import tarfile\n",
        "import numpy as np\n",
        "import struct\n",
        "import numpy as np\n",
        "import requests\n",
        "import time"
      ],
      "metadata": {
        "id": "RKZqVB2ANOwv"
      },
      "execution_count": null,
      "outputs": []
    },
    {
      "cell_type": "code",
      "source": [
        "# Connect to Milvus server\n",
        "TOKEN = '9ac70c2ae419bb92437b49afaee5e28a412b2b4a560366056e486c1e2b1f3af48f9a62a37551fa5735b5e4c27900abe963544dbf'\n",
        "CLUSTER_ENDPOINT=\"https://in03-b29a7b5456b7b3f.api.gcp-us-west1.zillizcloud.com/\"\n",
        "\n",
        "connections.connect(\n",
        "    uri=CLUSTER_ENDPOINT,\n",
        "    token=TOKEN)\n",
        "\n",
        "collection = Collection('DeepDataset')\n",
        "collection.load()"
      ],
      "metadata": {
        "id": "fDH5i5bWY0Fu"
      },
      "execution_count": null,
      "outputs": []
    },
    {
      "cell_type": "code",
      "source": [
        "# Test run\n",
        "\n",
        "# # Number of vectors to search for at a time\n",
        "# n = 100\n",
        "\n",
        "# # Number of vecs to return for each search vector\n",
        "# lim = 10\n",
        "\n",
        "# # Example query vector\n",
        "# query_vector = [0.5 for i in range(200)]\n",
        "\n",
        "# # Specify search parameters\n",
        "# search_params = {\"metric_type\": \"L2\", \"params\": {\"nprobe\": 10}}\n",
        "\n",
        "# # Run similarity search with specified search parameters\n",
        "# results = collection.search(\n",
        "# \tdata=[query_vector for _ in range(n)],\n",
        "# \tanns_field=\"vector\",\n",
        "# \tparam=search_params,\n",
        "# \tlimit=lim,\n",
        "# \texpr=None,\n",
        "# \tconsistency_level=\"Strong\"\n",
        "# )"
      ],
      "metadata": {
        "id": "G4BrDiNsdFv6"
      },
      "execution_count": null,
      "outputs": []
    },
    {
      "cell_type": "code",
      "source": [
        "# # Process query results\n",
        "# for i in range(len(results)):\n",
        "#   print('Results for Search #', i)\n",
        "#   for r in results[i]:\n",
        "#     print(r)"
      ],
      "metadata": {
        "id": "UKzI9a44ayYk"
      },
      "execution_count": null,
      "outputs": []
    },
    {
      "cell_type": "markdown",
      "source": [
        "# Define Experiment (Queries-Per-Second)"
      ],
      "metadata": {
        "id": "e5Hij5TppHm0"
      }
    },
    {
      "cell_type": "code",
      "source": [
        "def run_qps_test(n_vecs, n_runs=1):\n",
        "\n",
        "\t# Number of vecs to return for each search vector\n",
        "\tlim = 10\n",
        "\n",
        "\tvecs = []\n",
        "\tfor i in range(n_vecs):\n",
        "\t\tquery_vector = np.random.rand(96).tolist()\n",
        "\t\tvecs.append(query_vector)\n",
        "\n",
        "\tnum_batches = n_vecs // 100\n",
        "\n",
        "\t# Specify search parameters\n",
        "\tsearch_params = {\"metric_type\": \"IP\", \"params\": {\"nprobe\": 10}}\n",
        "\n",
        "\tl_duration = []\n",
        "\tl_qps = []\n",
        "\n",
        "\tfor run in range(n_runs):\n",
        "\n",
        "\t\tstart_time = time.time()\n",
        "\n",
        "\t\tfor i in range(0, num_batches, 100):\n",
        "\t\t\tbatch = vecs[i:i+100]\n",
        "\n",
        "\t\t\t# Run similarity search with specified search parameters\n",
        "\t\t\tresults = collection.search(\n",
        "\t\t\t\tdata=batch,\n",
        "\t\t\t\tanns_field=\"vector\",\n",
        "\t\t\t\tparam=search_params,\n",
        "\t\t\t\tlimit=lim,\n",
        "\t\t\t\texpr=None,\n",
        "\t\t\t\tconsistency_level=\"Strong\"\n",
        "\t\t\t)\n",
        "\n",
        "\t\tend_time = time.time()\n",
        "\n",
        "\t\tduration = end_time - start_time\n",
        "\t\tqps = n_vecs / duration\n",
        "\n",
        "\t\tl_duration.append(np.round(duration, 2))\n",
        "\t\tl_qps.append(qps)\n",
        "\n",
        "\treturn l_duration, l_qps\n",
        "\n",
        "def print_test(n_vecs, n_runs=1):\n",
        "\tduration, qps = run_qps_test(n_vecs, n_runs)\n",
        "\tprint(\"Total duration:\", duration, \"secs\")\n",
        "\tprint(\"QPS: \", round(np.mean(qps), 2))\n",
        "\n",
        "def remove_100k_rows(subset):\n",
        "\tsubset *= 100000\n",
        "\tvector_ids_to_delete = [i+subset for i in range(100000)]\n",
        "\tcollection.delete(expr=f'primary_key in {str(vector_ids_to_delete)}')\n",
        "\n",
        "def remove_1M_rows(subset):\n",
        "\tsubset *= 1000000\n",
        "\tvector_ids_to_delete = [i+subset for i in range(1000000)]\n",
        "\tcollection.delete(expr=f'primary_key in {str(vector_ids_to_delete)}')"
      ],
      "metadata": {
        "id": "u6aZJ223jLGX"
      },
      "execution_count": null,
      "outputs": []
    },
    {
      "cell_type": "markdown",
      "source": [
        "# Experiment Parameters"
      ],
      "metadata": {
        "id": "KrP84mhffIuL"
      }
    },
    {
      "cell_type": "code",
      "source": [
        "n_vecs = 1000000\n",
        "n_runs = 3"
      ],
      "metadata": {
        "id": "n9Bc7xS6ZmF7"
      },
      "execution_count": null,
      "outputs": []
    },
    {
      "cell_type": "markdown",
      "source": [
        "# Run Experiments"
      ],
      "metadata": {
        "id": "beR3UdpEcKjz"
      }
    },
    {
      "cell_type": "code",
      "source": [
        "print_test(n_vecs, n_runs)"
      ],
      "metadata": {
        "id": "H-JrS14ulO7L",
        "colab": {
          "base_uri": "https://localhost:8080/"
        },
        "outputId": "5446b5fe-4e05-47ce-863f-95075a85fd1c"
      },
      "execution_count": null,
      "outputs": [
        {
          "output_type": "stream",
          "name": "stdout",
          "text": [
            "Total duration: [65.8, 60.01, 59.99] secs\n",
            "QPS:  16176.68\n"
          ]
        }
      ]
    },
    {
      "cell_type": "code",
      "source": [
        "ix = 0\n",
        "remove_1M_rows(ix)\n",
        "# remove_100k_rows(ix)"
      ],
      "metadata": {
        "id": "T5BTPgD9u6pB"
      },
      "execution_count": null,
      "outputs": []
    },
    {
      "cell_type": "code",
      "source": [
        "print_test(n_vecs, n_runs)"
      ],
      "metadata": {
        "colab": {
          "base_uri": "https://localhost:8080/"
        },
        "id": "JEkSwt8wu3q8",
        "outputId": "c2e1f75e-011b-4409-f8ac-55dc952754d4"
      },
      "execution_count": null,
      "outputs": [
        {
          "output_type": "stream",
          "name": "stdout",
          "text": [
            "Total duration: [52.0, 44.6, 42.99] secs\n",
            "QPS:  21638.28\n"
          ]
        }
      ]
    },
    {
      "cell_type": "code",
      "source": [
        "ix = 1\n",
        "remove_1M_rows(ix)\n",
        "# remove_100k_rows(ix)"
      ],
      "metadata": {
        "id": "46KtFIBiw4Av"
      },
      "execution_count": null,
      "outputs": []
    },
    {
      "cell_type": "code",
      "source": [
        "print_test(n_vecs, n_runs)"
      ],
      "metadata": {
        "id": "2qU0MKq8xNIf",
        "colab": {
          "base_uri": "https://localhost:8080/"
        },
        "outputId": "626a3f2a-7147-4812-8f7f-1e870f98db13"
      },
      "execution_count": null,
      "outputs": [
        {
          "output_type": "stream",
          "name": "stdout",
          "text": [
            "Total duration: [40.43, 44.38, 40.02] secs\n",
            "QPS:  24084.7\n"
          ]
        }
      ]
    },
    {
      "cell_type": "code",
      "source": [
        "ix = 2\n",
        "remove_1M_rows(ix)\n",
        "# remove_100k_rows(ix)"
      ],
      "metadata": {
        "id": "0HW0E3tvxV8J"
      },
      "execution_count": null,
      "outputs": []
    },
    {
      "cell_type": "code",
      "source": [
        "print_test(n_vecs, n_runs)"
      ],
      "metadata": {
        "id": "HtR4H1xDxOVZ",
        "colab": {
          "base_uri": "https://localhost:8080/"
        },
        "outputId": "da865e5c-94a6-4b3e-b600-f056e6ebd9bf"
      },
      "execution_count": null,
      "outputs": [
        {
          "output_type": "stream",
          "name": "stdout",
          "text": [
            "Total duration: [40.01, 40.0, 42.8] secs\n",
            "QPS:  24450.9\n"
          ]
        }
      ]
    },
    {
      "cell_type": "code",
      "source": [
        "ix = 3\n",
        "remove_1M_rows(ix)\n",
        "# remove_100k_rows(ix)"
      ],
      "metadata": {
        "id": "kj40T2P-xwUI"
      },
      "execution_count": null,
      "outputs": []
    },
    {
      "cell_type": "code",
      "source": [
        "print_test(n_vecs, n_runs)"
      ],
      "metadata": {
        "colab": {
          "base_uri": "https://localhost:8080/"
        },
        "id": "zd4f0qwbxV8L",
        "outputId": "0732b846-2e8d-43a5-9b9a-29d8203dff2c"
      },
      "execution_count": null,
      "outputs": [
        {
          "output_type": "stream",
          "name": "stdout",
          "text": [
            "Total duration: [39.96, 40.22, 40.19] secs\n",
            "QPS:  24924.75\n"
          ]
        }
      ]
    },
    {
      "cell_type": "code",
      "source": [
        "# Clear out the last of the dataset\n",
        "\n",
        "# ix = 4\n",
        "# remove_1M_rows(ix)\n",
        "# remove_100k_rows(ix)"
      ],
      "metadata": {
        "id": "6y7bXyIVmnrf"
      },
      "execution_count": null,
      "outputs": []
    }
  ]
}